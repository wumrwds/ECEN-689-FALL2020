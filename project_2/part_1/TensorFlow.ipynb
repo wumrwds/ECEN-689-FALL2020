{
  "nbformat": 4,
  "nbformat_minor": 0,
  "metadata": {
    "kernelspec": {
      "display_name": "Python 3",
      "name": "python3",
      "language": "python"
    },
    "language_info": {
      "mimetype": "text/x-python",
      "nbconvert_exporter": "python",
      "name": "python",
      "file_extension": ".py",
      "version": "3.7.1",
      "pygments_lexer": "ipython3",
      "codemirror_mode": {
        "version": 3,
        "name": "ipython"
      }
    },
    "colab": {
      "name": "TensorFlow.ipynb",
      "provenance": [],
      "collapsed_sections": [],
      "toc_visible": true
    },
    "accelerator": "GPU"
  },
  "cells": [
    {
      "cell_type": "markdown",
      "metadata": {
        "tags": [
          "pdf-title"
        ],
        "id": "Y4t_UaKfdMc-"
      },
      "source": [
        "# What's this TensorFlow business?\n",
        "\n",
        "You've written a lot of code in this assignment to provide a whole host of neural network functionality. Dropout, Batch Norm, and 2D convolutions are some of the workhorses of deep learning in computer vision. You've also worked hard to make your code efficient and vectorized.\n",
        "\n",
        "For the last part of this assignment, though, we're going to leave behind your beautiful codebase and instead migrate to one of two popular deep learning frameworks: in this instance, TensorFlow (or PyTorch, if you choose to work with that notebook)."
      ]
    },
    {
      "cell_type": "markdown",
      "metadata": {
        "tags": [
          "pdf-ignore"
        ],
        "id": "whEoDS5RdMc-"
      },
      "source": [
        "#### What is it?\n",
        "TensorFlow is a system for executing computational graphs over Tensor objects, with native support for performing backpropogation for its Variables. In it, we work with Tensors which are n-dimensional arrays analogous to the numpy ndarray.\n",
        "\n",
        "#### Why?\n",
        "\n",
        "* Our code will now run on GPUs! Much faster training. Writing your own modules to run on GPUs is beyond the scope of this class, unfortunately.\n",
        "* We want you to be ready to use one of these frameworks for your project so you can experiment more efficiently than if you were writing every feature you want to use by hand. \n",
        "* We want you to stand on the shoulders of giants! TensorFlow and PyTorch are both excellent frameworks that will make your lives a lot easier, and now that you understand their guts, you are free to use them :) \n",
        "* We want you to be exposed to the sort of deep learning code you might run into in academia or industry. "
      ]
    },
    {
      "cell_type": "markdown",
      "metadata": {
        "tags": [
          "pdf-ignore"
        ],
        "id": "zUJb0FxhdMc-"
      },
      "source": [
        "## How will I learn TensorFlow?\n",
        "\n",
        "TensorFlow has many excellent tutorials available, including those from [Google themselves](https://www.tensorflow.org/get_started/get_started).\n",
        "\n",
        "Otherwise, this notebook will walk you through much of what you need to do to train models in TensorFlow. See the end of the notebook for some links to helpful tutorials if you want to learn more or need further clarification on topics that aren't fully explained here.\n",
        "\n",
        "**NOTE: This notebook is meant to teach you the latest version of Tensorflow 2.0. Most examples on the web today are still in 1.x, so be careful not to confuse the two when looking up documentation**.\n",
        "\n",
        "## Install Tensorflow 2.0\n",
        "Tensorflow 2.0 is still not in a fully 100% stable release, but it's still usable and more intuitive than TF 1.x. Please make sure you have it installed before moving on in this notebook! Here are some steps to get started:\n",
        "\n",
        "1. Have the latest version of Anaconda installed on your machine.\n",
        "2. Create a new conda environment starting from Python 3.7. In this setup example, we'll call it `tf_20_env`.\n",
        "3. Run the command: `source activate tf_20_env`\n",
        "4. Then pip install TF 2.0 as described here: https://www.tensorflow.org/install/pip \n",
        "\n",
        "A guide on creating Anaconda enviornments: https://uoa-eresearch.github.io/eresearch-cookbook/recipe/2014/11/20/conda/\n",
        "\n",
        "This will give you an new enviornemnt to play in TF 2.0. Generally, if you plan to also use TensorFlow in your other projects, you might also want to keep a seperate Conda environment or virtualenv in Python 3.7 that has Tensorflow 1.9, so you can switch back and forth at will. "
      ]
    },
    {
      "cell_type": "markdown",
      "metadata": {
        "tags": [
          "pdf-ignore"
        ],
        "id": "kCWUhlXNdMc-"
      },
      "source": [
        "# Table of Contents\n",
        "\n",
        "This notebook has 5 parts. We will walk through TensorFlow at **three different levels of abstraction**, which should help you better understand it and prepare you for working on your project.\n",
        "\n",
        "1. Part I, Preparation: load the CIFAR-10 dataset.\n",
        "2. Part II, Barebone TensorFlow: **Abstraction Level 1**, we will work directly with low-level TensorFlow graphs. \n",
        "3. Part III, Keras Model API: **Abstraction Level 2**, we will use `tf.keras.Model` to define arbitrary neural network architecture. \n",
        "4. Part IV, Keras Sequential + Functional API: **Abstraction Level 3**, we will use `tf.keras.Sequential` to define a linear feed-forward network very conveniently, and then explore the functional libraries for building unique and uncommon models that require more flexibility.\n",
        "5. Part V, CIFAR-10 open-ended challenge: please implement your own network to get as high accuracy as possible on CIFAR-10. You can experiment with any layer, optimizer, hyperparameters or other advanced features. \n",
        "\n",
        "We will discuss Keras in more detail later in the notebook.\n",
        "\n",
        "Here is a table of comparison:\n",
        "\n",
        "| API           | Flexibility | Convenience |\n",
        "|---------------|-------------|-------------|\n",
        "| Barebone      | High        | Low         |\n",
        "| `tf.keras.Model`     | High        | Medium      |\n",
        "| `tf.keras.Sequential` | Low         | High        |"
      ]
    },
    {
      "cell_type": "markdown",
      "metadata": {
        "id": "CtjRW9TUdMc-"
      },
      "source": [
        "# Part I: Preparation\n",
        "\n",
        "First, we load the CIFAR-10 dataset. This might take a few minutes to download the first time you run it, but after that the files should be cached on disk and loading should be faster.\n",
        "\n",
        "In previous parts of the assignment we used CS231N-specific code to download and read the CIFAR-10 dataset; however the `tf.keras.datasets` package in TensorFlow provides prebuilt utility functions for loading many common datasets.\n",
        "\n",
        "For the purposes of this assignment we will still write our own code to preprocess the data and iterate through it in minibatches. The `tf.data` package in TensorFlow provides tools for automating this process, but working with this package adds extra complication and is beyond the scope of this notebook. However using `tf.data` can be much more efficient than the simple approach used in this notebook, so you should consider using it for your project."
      ]
    },
    {
      "cell_type": "code",
      "metadata": {
        "tags": [
          "pdf-ignore"
        ],
        "id": "7gasIke7dMc-",
        "colab": {
          "base_uri": "https://localhost:8080/"
        },
        "outputId": "b12b3608-1fa7-44f5-9f34-55f42ac40836"
      },
      "source": [
        "%tensorflow_version 2.x\n",
        "\n",
        "import os\n",
        "import tensorflow as tf\n",
        "import numpy as np\n",
        "import math\n",
        "import timeit\n",
        "import matplotlib.pyplot as plt\n",
        "\n",
        "%matplotlib inline\n",
        "\n",
        "print(\"tensorflow version: \", tf.__version__)"
      ],
      "execution_count": 7,
      "outputs": [
        {
          "output_type": "stream",
          "text": [
            "tensorflow version:  2.3.0\n"
          ],
          "name": "stdout"
        }
      ]
    },
    {
      "cell_type": "code",
      "metadata": {
        "tags": [
          "pdf-ignore"
        ],
        "id": "IN6n9grGdMc-",
        "colab": {
          "base_uri": "https://localhost:8080/"
        },
        "outputId": "156653c3-9bfb-4db4-f772-1774c23657a7"
      },
      "source": [
        "def load_cifar10(num_training=49000, num_validation=1000, num_test=10000):\n",
        "    \"\"\"\n",
        "    Fetch the CIFAR-10 dataset from the web and perform preprocessing to prepare\n",
        "    it for the two-layer neural net classifier. These are the same steps as\n",
        "    we used for the SVM, but condensed to a single function.\n",
        "    \"\"\"\n",
        "    # Load the raw CIFAR-10 dataset and use appropriate data types and shapes\n",
        "    cifar10 = tf.keras.datasets.cifar10.load_data()\n",
        "    (X_train, y_train), (X_test, y_test) = cifar10\n",
        "    X_train = np.asarray(X_train, dtype=np.float32)\n",
        "    y_train = np.asarray(y_train, dtype=np.int32).flatten()\n",
        "    X_test = np.asarray(X_test, dtype=np.float32)\n",
        "    y_test = np.asarray(y_test, dtype=np.int32).flatten()\n",
        "\n",
        "    # Subsample the data\n",
        "    mask = range(num_training, num_training + num_validation)\n",
        "    X_val = X_train[mask]\n",
        "    y_val = y_train[mask]\n",
        "    mask = range(num_training)\n",
        "    X_train = X_train[mask]\n",
        "    y_train = y_train[mask]\n",
        "    mask = range(num_test)\n",
        "    X_test = X_test[mask]\n",
        "    y_test = y_test[mask]\n",
        "\n",
        "    # Normalize the data: subtract the mean pixel and divide by std\n",
        "    mean_pixel = X_train.mean(axis=(0, 1, 2), keepdims=True)\n",
        "    std_pixel = X_train.std(axis=(0, 1, 2), keepdims=True)\n",
        "    X_train = (X_train - mean_pixel) / std_pixel\n",
        "    X_val = (X_val - mean_pixel) / std_pixel\n",
        "    X_test = (X_test - mean_pixel) / std_pixel\n",
        "\n",
        "    return X_train, y_train, X_val, y_val, X_test, y_test\n",
        "\n",
        "# If there are errors with SSL downloading involving self-signed certificates,\n",
        "# it may be that your Python version was recently installed on the current machine.\n",
        "# See: https://github.com/tensorflow/tensorflow/issues/10779\n",
        "# To fix, run the command: /Applications/Python\\ 3.7/Install\\ Certificates.command\n",
        "#   ...replacing paths as necessary.\n",
        "\n",
        "# Invoke the above function to get our data.\n",
        "NHW = (0, 1, 2)\n",
        "X_train, y_train, X_val, y_val, X_test, y_test = load_cifar10()\n",
        "print('Train data shape: ', X_train.shape)\n",
        "print('Train labels shape: ', y_train.shape, y_train.dtype)\n",
        "print('Validation data shape: ', X_val.shape)\n",
        "print('Validation labels shape: ', y_val.shape)\n",
        "print('Test data shape: ', X_test.shape)\n",
        "print('Test labels shape: ', y_test.shape)"
      ],
      "execution_count": 8,
      "outputs": [
        {
          "output_type": "stream",
          "text": [
            "Downloading data from https://www.cs.toronto.edu/~kriz/cifar-10-python.tar.gz\n",
            "170500096/170498071 [==============================] - 4s 0us/step\n",
            "Train data shape:  (49000, 32, 32, 3)\n",
            "Train labels shape:  (49000,) int32\n",
            "Validation data shape:  (1000, 32, 32, 3)\n",
            "Validation labels shape:  (1000,)\n",
            "Test data shape:  (10000, 32, 32, 3)\n",
            "Test labels shape:  (10000,)\n"
          ],
          "name": "stdout"
        }
      ]
    },
    {
      "cell_type": "code",
      "metadata": {
        "tags": [
          "pdf-ignore"
        ],
        "id": "dsxhiULWdMc-"
      },
      "source": [
        "class Dataset(object):\n",
        "    def __init__(self, X, y, batch_size, shuffle=False):\n",
        "        \"\"\"\n",
        "        Construct a Dataset object to iterate over data X and labels y\n",
        "        \n",
        "        Inputs:\n",
        "        - X: Numpy array of data, of any shape\n",
        "        - y: Numpy array of labels, of any shape but with y.shape[0] == X.shape[0]\n",
        "        - batch_size: Integer giving number of elements per minibatch\n",
        "        - shuffle: (optional) Boolean, whether to shuffle the data on each epoch\n",
        "        \"\"\"\n",
        "        assert X.shape[0] == y.shape[0], 'Got different numbers of data and labels'\n",
        "        self.X, self.y = X, y\n",
        "        self.batch_size, self.shuffle = batch_size, shuffle\n",
        "\n",
        "    def __iter__(self):\n",
        "        N, B = self.X.shape[0], self.batch_size\n",
        "        idxs = np.arange(N)\n",
        "        if self.shuffle:\n",
        "            np.random.shuffle(idxs)\n",
        "        return iter((self.X[i:i+B], self.y[i:i+B]) for i in range(0, N, B))\n",
        "\n",
        "\n",
        "train_dset = Dataset(X_train, y_train, batch_size=64, shuffle=True)\n",
        "val_dset = Dataset(X_val, y_val, batch_size=64, shuffle=False)\n",
        "test_dset = Dataset(X_test, y_test, batch_size=64)"
      ],
      "execution_count": 9,
      "outputs": []
    },
    {
      "cell_type": "code",
      "metadata": {
        "id": "oQnN7ZpJdMc-",
        "colab": {
          "base_uri": "https://localhost:8080/"
        },
        "outputId": "3a3db19b-3b67-4670-c7a2-69b21c829bc4"
      },
      "source": [
        "# We can iterate through a dataset like this:\n",
        "for t, (x, y) in enumerate(train_dset):\n",
        "    print(t, x.shape, y.shape)\n",
        "    if t > 5: break"
      ],
      "execution_count": 10,
      "outputs": [
        {
          "output_type": "stream",
          "text": [
            "0 (64, 32, 32, 3) (64,)\n",
            "1 (64, 32, 32, 3) (64,)\n",
            "2 (64, 32, 32, 3) (64,)\n",
            "3 (64, 32, 32, 3) (64,)\n",
            "4 (64, 32, 32, 3) (64,)\n",
            "5 (64, 32, 32, 3) (64,)\n",
            "6 (64, 32, 32, 3) (64,)\n"
          ],
          "name": "stdout"
        }
      ]
    },
    {
      "cell_type": "markdown",
      "metadata": {
        "id": "ghYTpBy-dMc-"
      },
      "source": [
        "You can optionally **use GPU by setting the flag to True below**. It's not neccessary to use a GPU for this assignment; if you are working on Google Cloud then we recommend that you do not use a GPU, as it will be significantly more expensive."
      ]
    },
    {
      "cell_type": "code",
      "metadata": {
        "tags": [
          "pdf-ignore-input"
        ],
        "id": "90tWsYRLdMc-",
        "colab": {
          "base_uri": "https://localhost:8080/"
        },
        "outputId": "d2a808df-6410-4bd9-a782-920d46c5156f"
      },
      "source": [
        "# Set up some global variables\n",
        "USE_GPU = True\n",
        "\n",
        "if USE_GPU:\n",
        "    device = '/device:GPU:0'\n",
        "else:\n",
        "    device = '/cpu:0'\n",
        "\n",
        "# Constant to control how often we print when training models\n",
        "print_every = 100\n",
        "\n",
        "print('Using device: ', device)"
      ],
      "execution_count": 11,
      "outputs": [
        {
          "output_type": "stream",
          "text": [
            "Using device:  /device:GPU:0\n"
          ],
          "name": "stdout"
        }
      ]
    },
    {
      "cell_type": "markdown",
      "metadata": {
        "tags": [
          "pdf-ignore"
        ],
        "id": "uQ0F6MUzdMc-"
      },
      "source": [
        "# Part II: Barebones TensorFlow\n",
        "TensorFlow ships with various high-level APIs which make it very convenient to define and train neural networks; we will cover some of these constructs in Part III and Part IV of this notebook. In this section we will start by building a model with basic TensorFlow constructs to help you better understand what's going on under the hood of the higher-level APIs.\n",
        "\n",
        "**\"Barebones Tensorflow\" is important to understanding the building blocks of TensorFlow, but much of it involves concepts from TensorFlow 1.x.** We will be working with legacy modules such as `tf.Variable`.\n",
        "\n",
        "Therefore, please read and understand the differences between legacy (1.x) TF and the new (2.0) TF.\n",
        "\n",
        "### Historical background on TensorFlow 1.x\n",
        "\n",
        "TensorFlow 1.x is primarily a framework for working with **static computational graphs**. Nodes in the computational graph are Tensors which will hold n-dimensional arrays when the graph is run; edges in the graph represent functions that will operate on Tensors when the graph is run to actually perform useful computation.\n",
        "\n",
        "Before Tensorflow 2.0, we had to configure the graph into two phases. There are plenty of tutorials online that explain this two-step process. The process generally looks like the following for TF 1.x:\n",
        "1. **Build a computational graph that describes the computation that you want to perform**. This stage doesn't actually perform any computation; it just builds up a symbolic representation of your computation. This stage will typically define one or more `placeholder` objects that represent inputs to the computational graph.\n",
        "2. **Run the computational graph many times.** Each time the graph is run (e.g. for one gradient descent step) you will specify which parts of the graph you want to compute, and pass a `feed_dict` dictionary that will give concrete values to any `placeholder`s in the graph.\n",
        "\n",
        "### The new paradigm in Tensorflow 2.0\n",
        "Now, with Tensorflow 2.0, we can simply adopt a functional form that is more Pythonic and similar in spirit to PyTorch and direct Numpy operation. Instead of the 2-step paradigm with computation graphs, making it (among other things) easier to debug TF code. You can read more details at https://www.tensorflow.org/guide/eager.\n",
        "\n",
        "The main difference between the TF 1.x and 2.0 approach is that the 2.0 approach doesn't make use of `tf.Session`, `tf.run`, `placeholder`, `feed_dict`. To get more details of what's different between the two version and how to convert between the two, check out the official migration guide: https://www.tensorflow.org/alpha/guide/migration_guide\n",
        "\n",
        "Later, in the rest of this notebook we'll focus on this new, simpler approach."
      ]
    },
    {
      "cell_type": "markdown",
      "metadata": {
        "tags": [
          "pdf-ignore"
        ],
        "id": "wfh6HhyjdMc_"
      },
      "source": [
        "### TensorFlow warmup: Flatten Function\n",
        "\n",
        "We can see this in action by defining a simple `flatten` function that will reshape image data for use in a fully-connected network.\n",
        "\n",
        "In TensorFlow, data for convolutional feature maps is typically stored in a Tensor of shape N x H x W x C where:\n",
        "\n",
        "- N is the number of datapoints (minibatch size)\n",
        "- H is the height of the feature map\n",
        "- W is the width of the feature map\n",
        "- C is the number of channels in the feature map\n",
        "\n",
        "This is the right way to represent the data when we are doing something like a 2D convolution, that needs spatial understanding of where the intermediate features are relative to each other. When we use fully connected affine layers to process the image, however, we want each datapoint to be represented by a single vector -- it's no longer useful to segregate the different channels, rows, and columns of the data. So, we use a \"flatten\" operation to collapse the `H x W x C` values per representation into a single long vector. \n",
        "\n",
        "Notice the `tf.reshape` call has the target shape as `(N, -1)`, meaning it will reshape/keep the first dimension to be N, and then infer as necessary what the second dimension is in the output, so we can collapse the remaining dimensions from the input properly.\n",
        "\n",
        "**NOTE**: TensorFlow and PyTorch differ on the default Tensor layout; TensorFlow uses N x H x W x C but PyTorch uses N x C x H x W."
      ]
    },
    {
      "cell_type": "code",
      "metadata": {
        "tags": [
          "pdf-ignore"
        ],
        "id": "2W40o47gdMc_"
      },
      "source": [
        "def flatten(x):\n",
        "    \"\"\"    \n",
        "    Input:\n",
        "    - TensorFlow Tensor of shape (N, D1, ..., DM)\n",
        "    \n",
        "    Output:\n",
        "    - TensorFlow Tensor of shape (N, D1 * ... * DM)\n",
        "    \"\"\"\n",
        "    N = tf.shape(x)[0]\n",
        "    return tf.reshape(x, (N, -1))"
      ],
      "execution_count": null,
      "outputs": []
    },
    {
      "cell_type": "code",
      "metadata": {
        "tags": [
          "pdf-ignore-input"
        ],
        "id": "bYAwoDe-dMc_",
        "colab": {
          "base_uri": "https://localhost:8080/"
        },
        "outputId": "7ed980ca-a9ac-455b-b9bd-0b26f862d4e8"
      },
      "source": [
        "def test_flatten():\n",
        "    # Construct concrete values of the input data x using numpy\n",
        "    x_np = np.arange(24).reshape((2, 3, 4))\n",
        "    print('x_np:\\n', x_np, '\\n')\n",
        "    # Compute a concrete output value.\n",
        "    x_flat_np = flatten(x_np)\n",
        "    print('x_flat_np:\\n', x_flat_np, '\\n')\n",
        "\n",
        "test_flatten()"
      ],
      "execution_count": null,
      "outputs": [
        {
          "output_type": "stream",
          "text": [
            "x_np:\n",
            " [[[ 0  1  2  3]\n",
            "  [ 4  5  6  7]\n",
            "  [ 8  9 10 11]]\n",
            "\n",
            " [[12 13 14 15]\n",
            "  [16 17 18 19]\n",
            "  [20 21 22 23]]] \n",
            "\n",
            "x_flat_np:\n",
            " tf.Tensor(\n",
            "[[ 0  1  2  3  4  5  6  7  8  9 10 11]\n",
            " [12 13 14 15 16 17 18 19 20 21 22 23]], shape=(2, 12), dtype=int64) \n",
            "\n"
          ],
          "name": "stdout"
        }
      ]
    },
    {
      "cell_type": "markdown",
      "metadata": {
        "id": "J0Wj7D57dMc_"
      },
      "source": [
        "### Barebones TensorFlow: Define a Two-Layer Network\n",
        "We will now implement our first neural network with TensorFlow: a fully-connected ReLU network with two hidden layers and no biases on the CIFAR10 dataset. For now we will use only low-level TensorFlow operators to define the network; later we will see how to use the higher-level abstractions provided by `tf.keras` to simplify the process.\n",
        "\n",
        "We will define the forward pass of the network in the function `two_layer_fc`; this will accept TensorFlow Tensors for the inputs and weights of the network, and return a TensorFlow Tensor for the scores. \n",
        "\n",
        "After defining the network architecture in the `two_layer_fc` function, we will test the implementation by checking the shape of the output.\n",
        "\n",
        "**It's important that you read and understand this implementation.**"
      ]
    },
    {
      "cell_type": "code",
      "metadata": {
        "tags": [
          "pdf-ignore"
        ],
        "id": "1fEDMg2_dMc_"
      },
      "source": [
        "def two_layer_fc(x, params):\n",
        "    \"\"\"\n",
        "    A fully-connected neural network; the architecture is:\n",
        "    fully-connected layer -> ReLU -> fully connected layer.\n",
        "    Note that we only need to define the forward pass here; TensorFlow will take\n",
        "    care of computing the gradients for us.\n",
        "    \n",
        "    The input to the network will be a minibatch of data, of shape\n",
        "    (N, d1, ..., dM) where d1 * ... * dM = D. The hidden layer will have H units,\n",
        "    and the output layer will produce scores for C classes.\n",
        "\n",
        "    Inputs:\n",
        "    - x: A TensorFlow Tensor of shape (N, d1, ..., dM) giving a minibatch of\n",
        "      input data.\n",
        "    - params: A list [w1, w2] of TensorFlow Tensors giving weights for the\n",
        "      network, where w1 has shape (D, H) and w2 has shape (H, C).\n",
        "    \n",
        "    Returns:\n",
        "    - scores: A TensorFlow Tensor of shape (N, C) giving classification scores\n",
        "      for the input data x.\n",
        "    \"\"\"\n",
        "    w1, w2 = params                   # Unpack the parameters\n",
        "    x = flatten(x)                    # Flatten the input; now x has shape (N, D)\n",
        "    h = tf.nn.relu(tf.matmul(x, w1))  # Hidden layer: h has shape (N, H)\n",
        "    scores = tf.matmul(h, w2)         # Compute scores of shape (N, C)\n",
        "    return scores"
      ],
      "execution_count": null,
      "outputs": []
    },
    {
      "cell_type": "code",
      "metadata": {
        "tags": [
          "pdf-ignore-input"
        ],
        "id": "6yBZP_nkdMc_",
        "colab": {
          "base_uri": "https://localhost:8080/"
        },
        "outputId": "78d3a5b7-c1aa-446b-b7f6-ef7508d91265"
      },
      "source": [
        "def two_layer_fc_test():\n",
        "    hidden_layer_size = 42\n",
        "\n",
        "    # Scoping our TF operations under a tf.device context manager \n",
        "    # lets us tell TensorFlow where we want these Tensors to be\n",
        "    # multiplied and/or operated on, e.g. on a CPU or a GPU.\n",
        "    with tf.device(device):        \n",
        "        x = tf.zeros((64, 32, 32, 3))\n",
        "        w1 = tf.zeros((32 * 32 * 3, hidden_layer_size))\n",
        "        w2 = tf.zeros((hidden_layer_size, 10))\n",
        "\n",
        "        # Call our two_layer_fc function for the forward pass of the network.\n",
        "        scores = two_layer_fc(x, [w1, w2])\n",
        "\n",
        "    print(scores.shape)\n",
        "\n",
        "two_layer_fc_test()"
      ],
      "execution_count": null,
      "outputs": [
        {
          "output_type": "stream",
          "text": [
            "(64, 10)\n"
          ],
          "name": "stdout"
        }
      ]
    },
    {
      "cell_type": "markdown",
      "metadata": {
        "id": "zipx9pvpdMc_"
      },
      "source": [
        "### Barebones TensorFlow: Three-Layer ConvNet\n",
        "Here you will complete the implementation of the function `three_layer_convnet` which will perform the forward pass of a three-layer convolutional network. The network should have the following architecture:\n",
        "\n",
        "1. A convolutional layer (with bias) with `channel_1` filters, each with shape `KW1 x KH1`, and zero-padding of two\n",
        "2. ReLU nonlinearity\n",
        "3. A convolutional layer (with bias) with `channel_2` filters, each with shape `KW2 x KH2`, and zero-padding of one\n",
        "4. ReLU nonlinearity\n",
        "5. Fully-connected layer with bias, producing scores for `C` classes.\n",
        "\n",
        "**HINT**: For convolutions: https://www.tensorflow.org/versions/r2.0/api_docs/python/tf/nn/conv2d; be careful with padding!\n",
        "\n",
        "**HINT**: For biases: https://www.tensorflow.org/performance/xla/broadcasting"
      ]
    },
    {
      "cell_type": "code",
      "metadata": {
        "id": "kW9WkC8sdMc_"
      },
      "source": [
        "def three_layer_convnet(x, params):\n",
        "    \"\"\"\n",
        "    A three-layer convolutional network with the architecture described above.\n",
        "    \n",
        "    Inputs:\n",
        "    - x: A TensorFlow Tensor of shape (N, H, W, 3) giving a minibatch of images\n",
        "    - params: A list of TensorFlow Tensors giving the weights and biases for the\n",
        "      network; should contain the following:\n",
        "      - conv_w1: TensorFlow Tensor of shape (KH1, KW1, 3, channel_1) giving\n",
        "        weights for the first convolutional layer.\n",
        "      - conv_b1: TensorFlow Tensor of shape (channel_1,) giving biases for the\n",
        "        first convolutional layer.\n",
        "      - conv_w2: TensorFlow Tensor of shape (KH2, KW2, channel_1, channel_2)\n",
        "        giving weights for the second convolutional layer\n",
        "      - conv_b2: TensorFlow Tensor of shape (channel_2,) giving biases for the\n",
        "        second convolutional layer.\n",
        "      - fc_w: TensorFlow Tensor giving weights for the fully-connected layer.\n",
        "        Can you figure out what the shape should be?\n",
        "      - fc_b: TensorFlow Tensor giving biases for the fully-connected layer.\n",
        "        Can you figure out what the shape should be?\n",
        "    \"\"\"\n",
        "    conv_w1, conv_b1, conv_w2, conv_b2, fc_w, fc_b = params\n",
        "    scores = None\n",
        "    ############################################################################\n",
        "    # TODO: Implement the forward pass for the three-layer ConvNet.            #\n",
        "    ############################################################################\n",
        "    # *****START OF YOUR CODE (DO NOT DELETE/MODIFY THIS LINE)*****\n",
        "\n",
        "    paddings = tf.constant([[0,0], [2,2], [2,2], [0,0]])\n",
        "    x = tf.pad(x, paddings, 'CONSTANT')\n",
        "    conv1 = tf.nn.conv2d(x, conv_w1, strides=[1,1,1,1], padding=\"VALID\")+conv_b1\n",
        "    relu1 = tf.nn.relu(conv1)\n",
        "    \n",
        "    paddings = tf.constant([[0,0], [1,1], [1,1], [0,0]])\n",
        "    conv1 = tf.pad(conv1, paddings, 'CONSTANT')\n",
        "    conv2 = tf.nn.conv2d(conv1, conv_w2, strides=[1,1,1,1], padding=\"VALID\")+conv_b2\n",
        "    relu2 = tf.nn.relu(conv2)\n",
        "    \n",
        "    relu2 = flatten(relu2)\n",
        "    scores = tf.matmul(relu2, fc_w) + fc_b \n",
        "\n",
        "    # *****END OF YOUR CODE (DO NOT DELETE/MODIFY THIS LINE)*****\n",
        "    ############################################################################\n",
        "    #                              END OF YOUR CODE                            #\n",
        "    ############################################################################\n",
        "    return scores"
      ],
      "execution_count": null,
      "outputs": []
    },
    {
      "cell_type": "markdown",
      "metadata": {
        "id": "QHKuVZVndMc_"
      },
      "source": [
        "After defing the forward pass of the three-layer ConvNet above, run the following cell to test your implementation. Like the two-layer network, we run the graph on a batch of zeros just to make sure the function doesn't crash, and produces outputs of the correct shape.\n",
        "\n",
        "When you run this function, `scores_np` should have shape `(64, 10)`."
      ]
    },
    {
      "cell_type": "code",
      "metadata": {
        "tags": [
          "pdf-ignore-input"
        ],
        "id": "LhnDRROidMc_",
        "colab": {
          "base_uri": "https://localhost:8080/"
        },
        "outputId": "657a30ab-e9f2-4756-c1d9-b8d713745ea9"
      },
      "source": [
        "def three_layer_convnet_test():\n",
        "    \n",
        "    with tf.device(device):\n",
        "        x = tf.zeros((64, 32, 32, 3))\n",
        "        conv_w1 = tf.zeros((5, 5, 3, 6))\n",
        "        conv_b1 = tf.zeros((6,))\n",
        "        conv_w2 = tf.zeros((3, 3, 6, 9))\n",
        "        conv_b2 = tf.zeros((9,))\n",
        "        fc_w = tf.zeros((32 * 32 * 9, 10))\n",
        "        fc_b = tf.zeros((10,))\n",
        "        params = [conv_w1, conv_b1, conv_w2, conv_b2, fc_w, fc_b]\n",
        "        scores = three_layer_convnet(x, params)\n",
        "\n",
        "    # Inputs to convolutional layers are 4-dimensional arrays with shape\n",
        "    # [batch_size, height, width, channels]\n",
        "    print('scores_np has shape: ', scores.shape)\n",
        "\n",
        "three_layer_convnet_test()"
      ],
      "execution_count": null,
      "outputs": [
        {
          "output_type": "stream",
          "text": [
            "scores_np has shape:  (64, 10)\n"
          ],
          "name": "stdout"
        }
      ]
    },
    {
      "cell_type": "markdown",
      "metadata": {
        "id": "hDDHjzQNdMc_"
      },
      "source": [
        "### Barebones TensorFlow: Training Step\n",
        "\n",
        "We now define the `training_step` function performs a single training step. This will take three basic steps:\n",
        "\n",
        "1. Compute the loss\n",
        "2. Compute the gradient of the loss with respect to all network weights\n",
        "3. Make a weight update step using (stochastic) gradient descent.\n",
        "\n",
        "\n",
        "We need to use a few new TensorFlow functions to do all of this:\n",
        "- For computing the cross-entropy loss we'll use `tf.nn.sparse_softmax_cross_entropy_with_logits`: https://www.tensorflow.org/versions/r2.0/api_docs/python/tf/nn/sparse_softmax_cross_entropy_with_logits\n",
        "\n",
        "- For averaging the loss across a minibatch of data we'll use `tf.reduce_mean`:\n",
        "https://www.tensorflow.org/versions/r2.0/api_docs/python/tf/reduce_mean\n",
        "\n",
        "- For computing gradients of the loss with respect to the weights we'll use `tf.GradientTape` (useful for Eager execution):  https://www.tensorflow.org/versions/r2.0/api_docs/python/tf/GradientTape\n",
        "\n",
        "- We'll mutate the weight values stored in a TensorFlow Tensor using `tf.assign_sub` (\"sub\" is for subtraction): https://www.tensorflow.org/api_docs/python/tf/assign_sub \n"
      ]
    },
    {
      "cell_type": "code",
      "metadata": {
        "tags": [
          "pdf-ignore"
        ],
        "id": "NrmsO_y3dMc_"
      },
      "source": [
        "def training_step(model_fn, x, y, params, learning_rate):\n",
        "    with tf.GradientTape() as tape:\n",
        "        scores = model_fn(x, params) # Forward pass of the model\n",
        "        loss = tf.nn.sparse_softmax_cross_entropy_with_logits(labels=y, logits=scores)\n",
        "        total_loss = tf.reduce_mean(loss)\n",
        "        grad_params = tape.gradient(total_loss, params)\n",
        "\n",
        "        # Make a vanilla gradient descent step on all of the model parameters\n",
        "        # Manually update the weights using assign_sub()\n",
        "        for w, grad_w in zip(params, grad_params):\n",
        "            w.assign_sub(learning_rate * grad_w)\n",
        "                        \n",
        "        return total_loss"
      ],
      "execution_count": null,
      "outputs": []
    },
    {
      "cell_type": "code",
      "metadata": {
        "tags": [
          "pdf-ignore"
        ],
        "id": "QSmCBN1LdMc_"
      },
      "source": [
        "def train_part2(model_fn, init_fn, learning_rate):\n",
        "    \"\"\"\n",
        "    Train a model on CIFAR-10.\n",
        "    \n",
        "    Inputs:\n",
        "    - model_fn: A Python function that performs the forward pass of the model\n",
        "      using TensorFlow; it should have the following signature:\n",
        "      scores = model_fn(x, params) where x is a TensorFlow Tensor giving a\n",
        "      minibatch of image data, params is a list of TensorFlow Tensors holding\n",
        "      the model weights, and scores is a TensorFlow Tensor of shape (N, C)\n",
        "      giving scores for all elements of x.\n",
        "    - init_fn: A Python function that initializes the parameters of the model.\n",
        "      It should have the signature params = init_fn() where params is a list\n",
        "      of TensorFlow Tensors holding the (randomly initialized) weights of the\n",
        "      model.\n",
        "    - learning_rate: Python float giving the learning rate to use for SGD.\n",
        "    \"\"\"\n",
        "    \n",
        "    \n",
        "    params = init_fn()  # Initialize the model parameters            \n",
        "        \n",
        "    for t, (x_np, y_np) in enumerate(train_dset):\n",
        "        # Run the graph on a batch of training data.\n",
        "        loss = training_step(model_fn, x_np, y_np, params, learning_rate)\n",
        "        \n",
        "        # Periodically print the loss and check accuracy on the val set.\n",
        "        if t % print_every == 0:\n",
        "            print('Iteration %d, loss = %.4f' % (t, loss))\n",
        "            check_accuracy(val_dset, x_np, model_fn, params)"
      ],
      "execution_count": null,
      "outputs": []
    },
    {
      "cell_type": "code",
      "metadata": {
        "tags": [
          "pdf-ignore"
        ],
        "id": "wr9Mkad8dMc_"
      },
      "source": [
        "def check_accuracy(dset, x, model_fn, params):\n",
        "    \"\"\"\n",
        "    Check accuracy on a classification model, e.g. for validation.\n",
        "    \n",
        "    Inputs:\n",
        "    - dset: A Dataset object against which to check accuracy\n",
        "    - x: A TensorFlow placeholder Tensor where input images should be fed\n",
        "    - model_fn: the Model we will be calling to make predictions on x\n",
        "    - params: parameters for the model_fn to work with\n",
        "      \n",
        "    Returns: Nothing, but prints the accuracy of the model\n",
        "    \"\"\"\n",
        "    num_correct, num_samples = 0, 0\n",
        "    for x_batch, y_batch in dset:\n",
        "        scores_np = model_fn(x_batch, params).numpy()\n",
        "        y_pred = scores_np.argmax(axis=1)\n",
        "        num_samples += x_batch.shape[0]\n",
        "        num_correct += (y_pred == y_batch).sum()\n",
        "    acc = float(num_correct) / num_samples\n",
        "    print('Got %d / %d correct (%.2f%%)' % (num_correct, num_samples, 100 * acc))"
      ],
      "execution_count": null,
      "outputs": []
    },
    {
      "cell_type": "markdown",
      "metadata": {
        "id": "GkhOmlHtdMc_"
      },
      "source": [
        "### Barebones TensorFlow: Initialization\n",
        "We'll use the following utility method to initialize the weight matrices for our models using Kaiming's normalization method.\n",
        "\n",
        "[1] He et al, *Delving Deep into Rectifiers: Surpassing Human-Level Performance on ImageNet Classification\n",
        "*, ICCV 2015, https://arxiv.org/abs/1502.01852"
      ]
    },
    {
      "cell_type": "code",
      "metadata": {
        "id": "bw98PLFwdMc_"
      },
      "source": [
        "def create_matrix_with_kaiming_normal(shape):\n",
        "    if len(shape) == 2:\n",
        "        fan_in, fan_out = shape[0], shape[1]\n",
        "    elif len(shape) == 4:\n",
        "        fan_in, fan_out = np.prod(shape[:3]), shape[3]\n",
        "    return tf.keras.backend.random_normal(shape) * np.sqrt(2.0 / fan_in)"
      ],
      "execution_count": null,
      "outputs": []
    },
    {
      "cell_type": "markdown",
      "metadata": {
        "id": "4hMXlM7KdMc_"
      },
      "source": [
        "### Barebones TensorFlow: Train a Two-Layer Network\n",
        "We are finally ready to use all of the pieces defined above to train a two-layer fully-connected network on CIFAR-10.\n",
        "\n",
        "We just need to define a function to initialize the weights of the model, and call `train_part2`.\n",
        "\n",
        "Defining the weights of the network introduces another important piece of TensorFlow API: `tf.Variable`. A TensorFlow Variable is a Tensor whose value is stored in the graph and persists across runs of the computational graph; however unlike constants defined with `tf.zeros` or `tf.random_normal`, the values of a Variable can be mutated as the graph runs; these mutations will persist across graph runs. Learnable parameters of the network are usually stored in Variables.\n",
        "\n",
        "You don't need to tune any hyperparameters, but you should achieve validation accuracies above 40% after one epoch of training."
      ]
    },
    {
      "cell_type": "code",
      "metadata": {
        "id": "hG0QcbP8dMc_",
        "colab": {
          "base_uri": "https://localhost:8080/"
        },
        "outputId": "3ed1d7af-b1ed-4ede-f43f-020ee01f42f9"
      },
      "source": [
        "def two_layer_fc_init():\n",
        "    \"\"\"\n",
        "    Initialize the weights of a two-layer network, for use with the\n",
        "    two_layer_network function defined above. \n",
        "    You can use the `create_matrix_with_kaiming_normal` helper!\n",
        "    \n",
        "    Inputs: None\n",
        "    \n",
        "    Returns: A list of:\n",
        "    - w1: TensorFlow tf.Variable giving the weights for the first layer\n",
        "    - w2: TensorFlow tf.Variable giving the weights for the second layer\n",
        "    \"\"\"\n",
        "    hidden_layer_size = 4000\n",
        "    w1 = tf.Variable(create_matrix_with_kaiming_normal((3 * 32 * 32, 4000)))\n",
        "    w2 = tf.Variable(create_matrix_with_kaiming_normal((4000, 10)))\n",
        "    return [w1, w2]\n",
        "\n",
        "learning_rate = 1e-2\n",
        "train_part2(two_layer_fc, two_layer_fc_init, learning_rate)"
      ],
      "execution_count": null,
      "outputs": [
        {
          "output_type": "stream",
          "text": [
            "Iteration 0, loss = 3.3197\n",
            "Got 107 / 1000 correct (10.70%)\n",
            "Iteration 100, loss = 1.9458\n",
            "Got 359 / 1000 correct (35.90%)\n",
            "Iteration 200, loss = 1.3949\n",
            "Got 383 / 1000 correct (38.30%)\n",
            "Iteration 300, loss = 1.7820\n",
            "Got 371 / 1000 correct (37.10%)\n",
            "Iteration 400, loss = 1.7240\n",
            "Got 429 / 1000 correct (42.90%)\n",
            "Iteration 500, loss = 1.7102\n",
            "Got 424 / 1000 correct (42.40%)\n",
            "Iteration 600, loss = 1.8100\n",
            "Got 420 / 1000 correct (42.00%)\n",
            "Iteration 700, loss = 1.9522\n",
            "Got 429 / 1000 correct (42.90%)\n"
          ],
          "name": "stdout"
        }
      ]
    },
    {
      "cell_type": "markdown",
      "metadata": {
        "id": "l-tKKDh5dMc_"
      },
      "source": [
        "### Barebones TensorFlow: Train a three-layer ConvNet\n",
        "We will now use TensorFlow to train a three-layer ConvNet on CIFAR-10.\n",
        "\n",
        "You need to implement the `three_layer_convnet_init` function. Recall that the architecture of the network is:\n",
        "\n",
        "1. Convolutional layer (with bias) with 32 5x5 filters, with zero-padding 2\n",
        "2. ReLU\n",
        "3. Convolutional layer (with bias) with 16 3x3 filters, with zero-padding 1\n",
        "4. ReLU\n",
        "5. Fully-connected layer (with bias) to compute scores for 10 classes\n",
        "\n",
        "You don't need to do any hyperparameter tuning, but you should see validation accuracies above 43% after one epoch of training."
      ]
    },
    {
      "cell_type": "code",
      "metadata": {
        "id": "Q8ciqQQ8dMc_",
        "colab": {
          "base_uri": "https://localhost:8080/"
        },
        "outputId": "0f927a43-a4b5-4121-ae12-9285ab653c66"
      },
      "source": [
        "def three_layer_convnet_init():\n",
        "    \"\"\"\n",
        "    Initialize the weights of a Three-Layer ConvNet, for use with the\n",
        "    three_layer_convnet function defined above.\n",
        "    You can use the `create_matrix_with_kaiming_normal` helper!\n",
        "    \n",
        "    Inputs: None\n",
        "    \n",
        "    Returns a list containing:\n",
        "    - conv_w1: TensorFlow tf.Variable giving weights for the first conv layer\n",
        "    - conv_b1: TensorFlow tf.Variable giving biases for the first conv layer\n",
        "    - conv_w2: TensorFlow tf.Variable giving weights for the second conv layer\n",
        "    - conv_b2: TensorFlow tf.Variable giving biases for the second conv layer\n",
        "    - fc_w: TensorFlow tf.Variable giving weights for the fully-connected layer\n",
        "    - fc_b: TensorFlow tf.Variable giving biases for the fully-connected layer\n",
        "    \"\"\"\n",
        "    params = None\n",
        "    ############################################################################\n",
        "    # TODO: Initialize the parameters of the three-layer network.              #\n",
        "    ############################################################################\n",
        "    # *****START OF YOUR CODE (DO NOT DELETE/MODIFY THIS LINE)*****\n",
        "\n",
        "    conv_w1 = tf.Variable(create_matrix_with_kaiming_normal([5, 5, 3, 32]))\n",
        "    conv_b1 = tf.Variable(np.zeros([32]), dtype=tf.float32)\n",
        "    conv_w2 = tf.Variable(create_matrix_with_kaiming_normal([3, 3, 32, 16]))\n",
        "    conv_b2 = tf.Variable(np.zeros([16]), dtype=tf.float32)\n",
        "    fc_w = tf.Variable(create_matrix_with_kaiming_normal([32*32*16,10]))\n",
        "    fc_b = tf.Variable(np.zeros([10]), dtype=tf.float32)\n",
        "    \n",
        "    params = (conv_w1, conv_b1, conv_w2, conv_b2, fc_w, fc_b)\n",
        "\n",
        "\n",
        "    # *****END OF YOUR CODE (DO NOT DELETE/MODIFY THIS LINE)*****\n",
        "    ############################################################################\n",
        "    #                             END OF YOUR CODE                             #\n",
        "    ############################################################################\n",
        "    return params\n",
        "\n",
        "learning_rate = 3e-3\n",
        "train_part2(three_layer_convnet, three_layer_convnet_init, learning_rate)"
      ],
      "execution_count": null,
      "outputs": [
        {
          "output_type": "stream",
          "text": [
            "Iteration 0, loss = 3.0325\n",
            "Got 131 / 1000 correct (13.10%)\n",
            "Iteration 100, loss = 1.7017\n",
            "Got 366 / 1000 correct (36.60%)\n",
            "Iteration 200, loss = 1.5753\n",
            "Got 411 / 1000 correct (41.10%)\n",
            "Iteration 300, loss = 1.6938\n",
            "Got 414 / 1000 correct (41.40%)\n",
            "Iteration 400, loss = 1.5538\n",
            "Got 463 / 1000 correct (46.30%)\n",
            "Iteration 500, loss = 1.6251\n",
            "Got 472 / 1000 correct (47.20%)\n",
            "Iteration 600, loss = 1.5889\n",
            "Got 473 / 1000 correct (47.30%)\n",
            "Iteration 700, loss = 1.6414\n",
            "Got 492 / 1000 correct (49.20%)\n"
          ],
          "name": "stdout"
        }
      ]
    },
    {
      "cell_type": "markdown",
      "metadata": {
        "tags": [
          "pdf-ignore"
        ],
        "id": "HIAo1X8-dMc_"
      },
      "source": [
        "# Part III: Keras Model Subclassing API\n",
        "\n",
        "Implementing a neural network using the low-level TensorFlow API is a good way to understand how TensorFlow works, but it's a little inconvenient - we had to manually keep track of all Tensors holding learnable parameters. This was fine for a small network, but could quickly become unweildy for a large complex model.\n",
        "\n",
        "Fortunately TensorFlow 2.0 provides higher-level APIs such as `tf.keras` which make it easy to build models out of modular, object-oriented layers. Further, TensorFlow 2.0 uses eager execution that evaluates operations immediately, without explicitly constructing any computational graphs. This makes it easy to write and debug models, and reduces the boilerplate code.\n",
        "\n",
        "In this part of the notebook we will define neural network models using the `tf.keras.Model` API. To implement your own model, you need to do the following:\n",
        "\n",
        "1. Define a new class which subclasses `tf.keras.Model`. Give your class an intuitive name that describes it, like `TwoLayerFC` or `ThreeLayerConvNet`.\n",
        "2. In the initializer `__init__()` for your new class, define all the layers you need as class attributes. The `tf.keras.layers` package provides many common neural-network layers, like `tf.keras.layers.Dense` for fully-connected layers and `tf.keras.layers.Conv2D` for convolutional layers. Under the hood, these layers will construct `Variable` Tensors for any learnable parameters. **Warning**: Don't forget to call `super(YourModelName, self).__init__()` as the first line in your initializer!\n",
        "3. Implement the `call()` method for your class; this implements the forward pass of your model, and defines the *connectivity* of your network. Layers defined in `__init__()` implement `__call__()` so they can be used as function objects that transform input Tensors into output Tensors. Don't define any new layers in `call()`; any layers you want to use in the forward pass should be defined in `__init__()`.\n",
        "\n",
        "After you define your `tf.keras.Model` subclass, you can instantiate it and use it like the model functions from Part II.\n",
        "\n",
        "### Keras Model Subclassing API: Two-Layer Network\n",
        "\n",
        "Here is a concrete example of using the `tf.keras.Model` API to define a two-layer network. There are a few new bits of API to be aware of here:\n",
        "\n",
        "We use an `Initializer` object to set up the initial values of the learnable parameters of the layers; in particular `tf.initializers.VarianceScaling` gives behavior similar to the Kaiming initialization method we used in Part II. You can read more about it here: https://www.tensorflow.org/versions/r2.0/api_docs/python/tf/initializers/VarianceScaling\n",
        "\n",
        "We construct `tf.keras.layers.Dense` objects to represent the two fully-connected layers of the model. In addition to multiplying their input by a weight matrix and adding a bias vector, these layer can also apply a nonlinearity for you. For the first layer we specify a ReLU activation function by passing `activation='relu'` to the constructor; the second layer uses softmax activation function. Finally, we use `tf.keras.layers.Flatten` to flatten the output from the previous fully-connected layer."
      ]
    },
    {
      "cell_type": "code",
      "metadata": {
        "tags": [
          "pdf-ignore-input"
        ],
        "id": "Tm0dEWVLdMc_",
        "colab": {
          "base_uri": "https://localhost:8080/"
        },
        "outputId": "269bb60d-dab2-4547-dd65-b136647e28d8"
      },
      "source": [
        "class TwoLayerFC(tf.keras.Model):\n",
        "    def __init__(self, hidden_size, num_classes):\n",
        "        super(TwoLayerFC, self).__init__()        \n",
        "        initializer = tf.initializers.VarianceScaling(scale=2.0)\n",
        "        self.fc1 = tf.keras.layers.Dense(hidden_size, activation='relu',\n",
        "                                   kernel_initializer=initializer)\n",
        "        self.fc2 = tf.keras.layers.Dense(num_classes, activation='softmax',\n",
        "                                   kernel_initializer=initializer)\n",
        "        self.flatten = tf.keras.layers.Flatten()\n",
        "    \n",
        "    def call(self, x, training=False):\n",
        "        x = self.flatten(x)\n",
        "        x = self.fc1(x)\n",
        "        x = self.fc2(x)\n",
        "        return x\n",
        "\n",
        "\n",
        "def test_TwoLayerFC():\n",
        "    \"\"\" A small unit test to exercise the TwoLayerFC model above. \"\"\"\n",
        "    input_size, hidden_size, num_classes = 50, 42, 10\n",
        "    x = tf.zeros((64, input_size))\n",
        "    model = TwoLayerFC(hidden_size, num_classes)\n",
        "    with tf.device(device):\n",
        "        scores = model(x)\n",
        "        print(scores.shape)\n",
        "        \n",
        "test_TwoLayerFC()"
      ],
      "execution_count": 12,
      "outputs": [
        {
          "output_type": "stream",
          "text": [
            "(64, 10)\n"
          ],
          "name": "stdout"
        }
      ]
    },
    {
      "cell_type": "markdown",
      "metadata": {
        "id": "FTw0bTnkdMc_"
      },
      "source": [
        "### Keras Model Subclassing API: Three-Layer ConvNet\n",
        "Now it's your turn to implement a three-layer ConvNet using the `tf.keras.Model` API. Your model should have the same architecture used in Part II:\n",
        "\n",
        "1. Convolutional layer with 5 x 5 kernels, with zero-padding of 2\n",
        "2. ReLU nonlinearity\n",
        "3. Convolutional layer with 3 x 3 kernels, with zero-padding of 1\n",
        "4. ReLU nonlinearity\n",
        "5. Fully-connected layer to give class scores\n",
        "6. Softmax nonlinearity\n",
        "\n",
        "You should initialize the weights of your network using the same initialization method as was used in the two-layer network above.\n",
        "\n",
        "**Hint**: Refer to the documentation for `tf.keras.layers.Conv2D` and `tf.keras.layers.Dense`:\n",
        "\n",
        "https://www.tensorflow.org/versions/r2.0/api_docs/python/tf/keras/layers/Conv2D\n",
        "\n",
        "https://www.tensorflow.org/versions/r2.0/api_docs/python/tf/keras/layers/Dense"
      ]
    },
    {
      "cell_type": "code",
      "metadata": {
        "id": "CZwtiXo3dMc_"
      },
      "source": [
        "class ThreeLayerConvNet(tf.keras.Model):\n",
        "    def __init__(self, channel_1, channel_2, num_classes):\n",
        "        super(ThreeLayerConvNet, self).__init__()\n",
        "        ########################################################################\n",
        "        # TODO: Implement the __init__ method for a three-layer ConvNet. You   #\n",
        "        # should instantiate layer objects to be used in the forward pass.     #\n",
        "        ########################################################################\n",
        "        # *****START OF YOUR CODE (DO NOT DELETE/MODIFY THIS LINE)*****\n",
        "\n",
        "        initializer = tf.initializers.VarianceScaling(scale=2.0)\n",
        "\n",
        "        self.conv1 = tf.keras.layers.Conv2D(channel_1, [5,5], [1,1], padding='VALID',\n",
        "                                            kernel_initializer=initializer,\n",
        "                                            activation=tf.nn.relu)\n",
        "        \n",
        "        self.conv2 = tf.keras.layers.Conv2D(channel_2, [3,3], [1,1], padding='VALID',\n",
        "                                            kernel_initializer=initializer,\n",
        "                                            activation=tf.nn.relu)\n",
        "        \n",
        "        self.fc = tf.keras.layers.Dense(num_classes, kernel_initializer=initializer)\n",
        "        self.flatten = tf.keras.layers.Flatten()\n",
        "        self.softmax = tf.keras.layers.Softmax()\n",
        "\n",
        "        # *****END OF YOUR CODE (DO NOT DELETE/MODIFY THIS LINE)*****\n",
        "        ########################################################################\n",
        "        #                           END OF YOUR CODE                           #\n",
        "        ########################################################################\n",
        "        \n",
        "    def call(self, x, training=False):\n",
        "        scores = None\n",
        "        ########################################################################\n",
        "        # TODO: Implement the forward pass for a three-layer ConvNet. You      #\n",
        "        # should use the layer objects defined in the __init__ method.         #\n",
        "        ########################################################################\n",
        "        # *****START OF YOUR CODE (DO NOT DELETE/MODIFY THIS LINE)*****\n",
        "\n",
        "        x = tf.keras.layers.ZeroPadding2D(2)(x)\n",
        "        x = self.conv1(x)\n",
        "\n",
        "        x = tf.keras.layers.ZeroPadding2D(1)(x)\n",
        "        x = self.conv2(x)\n",
        "\n",
        "        x = self.flatten(x)\n",
        "        x = self.fc(x)\n",
        "        scores = self.softmax(x)\n",
        "\n",
        "        # *****END OF YOUR CODE (DO NOT DELETE/MODIFY THIS LINE)*****\n",
        "        ########################################################################\n",
        "        #                           END OF YOUR CODE                           #\n",
        "        ########################################################################        \n",
        "        return scores"
      ],
      "execution_count": 13,
      "outputs": []
    },
    {
      "cell_type": "markdown",
      "metadata": {
        "id": "4c3sJkQ1dMc_"
      },
      "source": [
        "Once you complete the implementation of the `ThreeLayerConvNet` above you can run the following to ensure that your implementation does not crash and produces outputs of the expected shape."
      ]
    },
    {
      "cell_type": "code",
      "metadata": {
        "id": "QkP9xSq0dMc_",
        "colab": {
          "base_uri": "https://localhost:8080/"
        },
        "outputId": "4f1b3f01-e128-48ef-f321-ee2cc794d64e"
      },
      "source": [
        "def test_ThreeLayerConvNet():    \n",
        "    channel_1, channel_2, num_classes = 12, 8, 10\n",
        "    model = ThreeLayerConvNet(channel_1, channel_2, num_classes)\n",
        "    with tf.device(device):\n",
        "        x = tf.zeros((64, 3, 32, 32))\n",
        "        scores = model(x)\n",
        "        print(scores.shape)\n",
        "\n",
        "test_ThreeLayerConvNet()"
      ],
      "execution_count": 14,
      "outputs": [
        {
          "output_type": "stream",
          "text": [
            "(64, 10)\n"
          ],
          "name": "stdout"
        }
      ]
    },
    {
      "cell_type": "markdown",
      "metadata": {
        "id": "TJOqhq7bdMc_"
      },
      "source": [
        "### Keras Model Subclassing API: Eager Training\n",
        "\n",
        "While keras models have a builtin training loop (using the `model.fit`), sometimes you need more customization. Here's an example, of a training loop implemented with eager execution.\n",
        "\n",
        "In particular, notice `tf.GradientTape`. Automatic differentiation is used in the backend for implementing backpropagation in frameworks like TensorFlow. During eager execution, `tf.GradientTape` is used to trace operations for computing gradients later. A particular `tf.GradientTape` can only compute one gradient; subsequent calls to tape will throw a runtime error. \n",
        "\n",
        "TensorFlow 2.0 ships with easy-to-use built-in metrics under `tf.keras.metrics` module. Each metric is an object, and we can use `update_state()` to add observations and `reset_state()` to clear all observations. We can get the current result of a metric by calling `result()` on the metric object."
      ]
    },
    {
      "cell_type": "code",
      "metadata": {
        "tags": [
          "pdf-ignore"
        ],
        "id": "0DGlmUsqdMc_"
      },
      "source": [
        "def train_part34(model_init_fn, optimizer_init_fn, num_epochs=1, is_training=False):\n",
        "    \"\"\"\n",
        "    Simple training loop for use with models defined using tf.keras. It trains\n",
        "    a model for one epoch on the CIFAR-10 training set and periodically checks\n",
        "    accuracy on the CIFAR-10 validation set.\n",
        "    \n",
        "    Inputs:\n",
        "    - model_init_fn: A function that takes no parameters; when called it\n",
        "      constructs the model we want to train: model = model_init_fn()\n",
        "    - optimizer_init_fn: A function which takes no parameters; when called it\n",
        "      constructs the Optimizer object we will use to optimize the model:\n",
        "      optimizer = optimizer_init_fn()\n",
        "    - num_epochs: The number of epochs to train for\n",
        "    \n",
        "    Returns: Nothing, but prints progress during trainingn\n",
        "    \"\"\"    \n",
        "    with tf.device(device):\n",
        "\n",
        "        # Compute the loss like we did in Part II\n",
        "        loss_fn = tf.keras.losses.SparseCategoricalCrossentropy()\n",
        "        \n",
        "        model = model_init_fn()\n",
        "        optimizer = optimizer_init_fn()\n",
        "        \n",
        "        train_loss = tf.keras.metrics.Mean(name='train_loss')\n",
        "        train_accuracy = tf.keras.metrics.SparseCategoricalAccuracy(name='train_accuracy')\n",
        "    \n",
        "        val_loss = tf.keras.metrics.Mean(name='val_loss')\n",
        "        val_accuracy = tf.keras.metrics.SparseCategoricalAccuracy(name='val_accuracy')\n",
        "        \n",
        "        t = 0\n",
        "        for epoch in range(num_epochs):\n",
        "            \n",
        "            # Reset the metrics - https://www.tensorflow.org/alpha/guide/migration_guide#new-style_metrics\n",
        "            train_loss.reset_states()\n",
        "            train_accuracy.reset_states()\n",
        "            \n",
        "            for x_np, y_np in train_dset:\n",
        "                with tf.GradientTape() as tape:\n",
        "                    \n",
        "                    # Use the model function to build the forward pass.\n",
        "                    scores = model(x_np, training=is_training)\n",
        "                    loss = loss_fn(y_np, scores)\n",
        "      \n",
        "                    gradients = tape.gradient(loss, model.trainable_variables)\n",
        "                    optimizer.apply_gradients(zip(gradients, model.trainable_variables))\n",
        "                    \n",
        "                    # Update the metrics\n",
        "                    train_loss.update_state(loss)\n",
        "                    train_accuracy.update_state(y_np, scores)\n",
        "                    \n",
        "                    if t % print_every == 0:\n",
        "                        val_loss.reset_states()\n",
        "                        val_accuracy.reset_states()\n",
        "                        for test_x, test_y in val_dset:\n",
        "                            # During validation at end of epoch, training set to False\n",
        "                            prediction = model(test_x, training=False)\n",
        "                            t_loss = loss_fn(test_y, prediction)\n",
        "\n",
        "                            val_loss.update_state(t_loss)\n",
        "                            val_accuracy.update_state(test_y, prediction)\n",
        "                        \n",
        "                        template = 'Iteration {}, Epoch {}, Loss: {}, Accuracy: {}, Val Loss: {}, Val Accuracy: {}'\n",
        "                        print (template.format(t, epoch+1,\n",
        "                                             train_loss.result(),\n",
        "                                             train_accuracy.result()*100,\n",
        "                                             val_loss.result(),\n",
        "                                             val_accuracy.result()*100))\n",
        "                    t += 1"
      ],
      "execution_count": 15,
      "outputs": []
    },
    {
      "cell_type": "markdown",
      "metadata": {
        "id": "U9XTk8YodMc_"
      },
      "source": [
        "### Keras Model Subclassing API: Train a Two-Layer Network\n",
        "We can now use the tools defined above to train a two-layer network on CIFAR-10. We define the `model_init_fn` and `optimizer_init_fn` that construct the model and optimizer respectively when called. Here we want to train the model using stochastic gradient descent with no momentum, so we construct a `tf.keras.optimizers.SGD` function; you can [read about it here](https://www.tensorflow.org/versions/r2.0/api_docs/python/tf/optimizers/SGD).\n",
        "\n",
        "You don't need to tune any hyperparameters here, but you should achieve validation accuracies above 40% after one epoch of training."
      ]
    },
    {
      "cell_type": "code",
      "metadata": {
        "id": "Rvr9gBX5dMc_",
        "colab": {
          "base_uri": "https://localhost:8080/"
        },
        "outputId": "c55d7428-b4ee-4e75-9160-2da56d34c7c9"
      },
      "source": [
        "hidden_size, num_classes = 4000, 10\n",
        "learning_rate = 1e-2\n",
        "\n",
        "def model_init_fn():\n",
        "    return TwoLayerFC(hidden_size, num_classes)\n",
        "\n",
        "def optimizer_init_fn():\n",
        "    return tf.keras.optimizers.SGD(learning_rate=learning_rate)\n",
        "\n",
        "train_part34(model_init_fn, optimizer_init_fn)"
      ],
      "execution_count": 16,
      "outputs": [
        {
          "output_type": "stream",
          "text": [
            "Iteration 0, Epoch 1, Loss: 3.2172770500183105, Accuracy: 12.5, Val Loss: 2.9156105518341064, Val Accuracy: 9.399999618530273\n",
            "Iteration 100, Epoch 1, Loss: 2.2414638996124268, Accuracy: 28.06311798095703, Val Loss: 1.8923587799072266, Val Accuracy: 38.29999923706055\n",
            "Iteration 200, Epoch 1, Loss: 2.0804789066314697, Accuracy: 31.96517562866211, Val Loss: 1.8398152589797974, Val Accuracy: 40.0\n",
            "Iteration 300, Epoch 1, Loss: 2.0051517486572266, Accuracy: 33.77284240722656, Val Loss: 1.8621459007263184, Val Accuracy: 37.5\n",
            "Iteration 400, Epoch 1, Loss: 1.9342012405395508, Accuracy: 35.6491584777832, Val Loss: 1.7166929244995117, Val Accuracy: 42.5\n",
            "Iteration 500, Epoch 1, Loss: 1.8876923322677612, Accuracy: 36.7733268737793, Val Loss: 1.6533857583999634, Val Accuracy: 41.20000076293945\n",
            "Iteration 600, Epoch 1, Loss: 1.857168197631836, Accuracy: 37.598793029785156, Val Loss: 1.6812684535980225, Val Accuracy: 42.89999771118164\n",
            "Iteration 700, Epoch 1, Loss: 1.8327175378799438, Accuracy: 38.295738220214844, Val Loss: 1.6384211778640747, Val Accuracy: 44.5\n"
          ],
          "name": "stdout"
        }
      ]
    },
    {
      "cell_type": "markdown",
      "metadata": {
        "id": "0xVuza_DdMc_"
      },
      "source": [
        "### Keras Model Subclassing  API: Train a Three-Layer ConvNet\n",
        "Here you should use the tools we've defined above to train a three-layer ConvNet on CIFAR-10. Your ConvNet should use 32 filters in the first convolutional layer and 16 filters in the second layer.\n",
        "\n",
        "To train the model you should use gradient descent with Nesterov momentum 0.9.  \n",
        "\n",
        "**HINT**: https://www.tensorflow.org/versions/r2.0/api_docs/python/tf/optimizers/SGD\n",
        "\n",
        "You don't need to perform any hyperparameter tuning, but you should achieve validation accuracies above 50% after training for one epoch."
      ]
    },
    {
      "cell_type": "code",
      "metadata": {
        "id": "WS82nmsqdMc_",
        "colab": {
          "base_uri": "https://localhost:8080/"
        },
        "outputId": "90437292-ec1b-4efe-c9f5-6d567163d6c9"
      },
      "source": [
        "learning_rate = 3e-3\n",
        "channel_1, channel_2, num_classes = 32, 16, 10\n",
        "\n",
        "def model_init_fn():\n",
        "    model = None\n",
        "    ############################################################################\n",
        "    # TODO: Complete the implementation of model_fn.                           #\n",
        "    ############################################################################\n",
        "    # *****START OF YOUR CODE (DO NOT DELETE/MODIFY THIS LINE)*****\n",
        "\n",
        "    model = ThreeLayerConvNet(channel_1, channel_2, num_classes)\n",
        "\n",
        "    # *****END OF YOUR CODE (DO NOT DELETE/MODIFY THIS LINE)*****\n",
        "    ############################################################################\n",
        "    #                           END OF YOUR CODE                               #\n",
        "    ############################################################################\n",
        "    return model\n",
        "\n",
        "def optimizer_init_fn():\n",
        "    optimizer = None\n",
        "    ############################################################################\n",
        "    # TODO: Complete the implementation of model_fn.                           #\n",
        "    ############################################################################\n",
        "    # *****START OF YOUR CODE (DO NOT DELETE/MODIFY THIS LINE)*****\n",
        "\n",
        "    optimizer = tf.keras.optimizers.SGD(learning_rate, 0.9, nesterov=True)\n",
        "\n",
        "    # *****END OF YOUR CODE (DO NOT DELETE/MODIFY THIS LINE)*****\n",
        "    ############################################################################\n",
        "    #                           END OF YOUR CODE                               #\n",
        "    ############################################################################\n",
        "    return optimizer\n",
        "\n",
        "train_part34(model_init_fn, optimizer_init_fn)"
      ],
      "execution_count": 17,
      "outputs": [
        {
          "output_type": "stream",
          "text": [
            "Iteration 0, Epoch 1, Loss: 2.9526515007019043, Accuracy: 9.375, Val Loss: 4.3581061363220215, Val Accuracy: 8.299999237060547\n",
            "Iteration 100, Epoch 1, Loss: 1.9407672882080078, Accuracy: 32.92079162597656, Val Loss: 1.7072523832321167, Val Accuracy: 42.39999771118164\n",
            "Iteration 200, Epoch 1, Loss: 1.7778736352920532, Accuracy: 37.85758590698242, Val Loss: 1.5145756006240845, Val Accuracy: 48.29999923706055\n",
            "Iteration 300, Epoch 1, Loss: 1.6892706155776978, Accuracy: 40.75477600097656, Val Loss: 1.443447470664978, Val Accuracy: 50.30000305175781\n",
            "Iteration 400, Epoch 1, Loss: 1.614557147026062, Accuracy: 43.19669723510742, Val Loss: 1.3800415992736816, Val Accuracy: 50.80000305175781\n",
            "Iteration 500, Epoch 1, Loss: 1.5609134435653687, Accuracy: 45.00686264038086, Val Loss: 1.3561992645263672, Val Accuracy: 52.60000228881836\n",
            "Iteration 600, Epoch 1, Loss: 1.5251588821411133, Accuracy: 46.274436950683594, Val Loss: 1.282503366470337, Val Accuracy: 55.099998474121094\n",
            "Iteration 700, Epoch 1, Loss: 1.4926891326904297, Accuracy: 47.4166374206543, Val Loss: 1.2557419538497925, Val Accuracy: 55.599998474121094\n"
          ],
          "name": "stdout"
        }
      ]
    },
    {
      "cell_type": "markdown",
      "metadata": {
        "id": "D6TX_mqkdMc_"
      },
      "source": [
        "# Part IV: Keras Sequential API\n",
        "In Part III we introduced the `tf.keras.Model` API, which allows you to define models with any number of learnable layers and with arbitrary connectivity between layers.\n",
        "\n",
        "However for many models you don't need such flexibility - a lot of models can be expressed as a sequential stack of layers, with the output of each layer fed to the next layer as input. If your model fits this pattern, then there is an even easier way to define your model: using `tf.keras.Sequential`. You don't need to write any custom classes; you simply call the `tf.keras.Sequential` constructor with a list containing a sequence of layer objects.\n",
        "\n",
        "One complication with `tf.keras.Sequential` is that you must define the shape of the input to the model by passing a value to the `input_shape` of the first layer in your model.\n",
        "\n",
        "### Keras Sequential API: Two-Layer Network\n",
        "In this subsection, we will rewrite the two-layer fully-connected network using `tf.keras.Sequential`, and train it using the training loop defined above.\n",
        "\n",
        "You don't need to perform any hyperparameter tuning here, but you should see validation accuracies above 40% after training for one epoch."
      ]
    },
    {
      "cell_type": "code",
      "metadata": {
        "id": "xeKo0jpjdMc_",
        "colab": {
          "base_uri": "https://localhost:8080/"
        },
        "outputId": "0f3456fa-4324-45e2-fe15-736c077ac828"
      },
      "source": [
        "learning_rate = 1e-2\n",
        "\n",
        "def model_init_fn():\n",
        "    input_shape = (32, 32, 3)\n",
        "    hidden_layer_size, num_classes = 4000, 10\n",
        "    initializer = tf.initializers.VarianceScaling(scale=2.0)\n",
        "    layers = [\n",
        "        tf.keras.layers.Flatten(input_shape=input_shape),\n",
        "        tf.keras.layers.Dense(hidden_layer_size, activation='relu',\n",
        "                              kernel_initializer=initializer),\n",
        "        tf.keras.layers.Dense(num_classes, activation='softmax', \n",
        "                              kernel_initializer=initializer),\n",
        "    ]\n",
        "    model = tf.keras.Sequential(layers)\n",
        "    return model\n",
        "\n",
        "def optimizer_init_fn():\n",
        "    return tf.keras.optimizers.SGD(learning_rate=learning_rate) \n",
        "\n",
        "train_part34(model_init_fn, optimizer_init_fn)"
      ],
      "execution_count": 18,
      "outputs": [
        {
          "output_type": "stream",
          "text": [
            "Iteration 0, Epoch 1, Loss: 2.927798271179199, Accuracy: 9.375, Val Loss: 2.8742196559906006, Val Accuracy: 10.699999809265137\n",
            "Iteration 100, Epoch 1, Loss: 2.2301247119903564, Accuracy: 28.7592830657959, Val Loss: 1.878867268562317, Val Accuracy: 37.5\n",
            "Iteration 200, Epoch 1, Loss: 2.068720579147339, Accuracy: 32.416046142578125, Val Loss: 1.8762575387954712, Val Accuracy: 38.29999923706055\n",
            "Iteration 300, Epoch 1, Loss: 1.9948625564575195, Accuracy: 34.219268798828125, Val Loss: 1.869505763053894, Val Accuracy: 37.599998474121094\n",
            "Iteration 400, Epoch 1, Loss: 1.9272420406341553, Accuracy: 35.97256851196289, Val Loss: 1.7105175256729126, Val Accuracy: 42.89999771118164\n",
            "Iteration 500, Epoch 1, Loss: 1.8844273090362549, Accuracy: 36.99787902832031, Val Loss: 1.6497523784637451, Val Accuracy: 44.20000076293945\n",
            "Iteration 600, Epoch 1, Loss: 1.8551117181777954, Accuracy: 37.80937957763672, Val Loss: 1.7118489742279053, Val Accuracy: 41.900001525878906\n",
            "Iteration 700, Epoch 1, Loss: 1.8302032947540283, Accuracy: 38.467369079589844, Val Loss: 1.647423267364502, Val Accuracy: 44.5\n"
          ],
          "name": "stdout"
        }
      ]
    },
    {
      "cell_type": "markdown",
      "metadata": {
        "id": "iGwVRE3IdMc_"
      },
      "source": [
        "### Abstracting Away the Training Loop\n",
        "In the previous examples, we used a customised training loop to train models (e.g. `train_part34`). Writing your own training loop is only required if you need more flexibility and control during training your model. Alternately, you can also use  built-in APIs like `tf.keras.Model.fit()` and `tf.keras.Model.evaluate` to train and evaluate a model. Also remember to configure your model for training by calling `tf.keras.Model.compile.\n",
        "\n",
        "You don't need to perform any hyperparameter tuning here, but you should see validation and test accuracies above 42% after training for one epoch."
      ]
    },
    {
      "cell_type": "code",
      "metadata": {
        "id": "15hnnlh5dMc_",
        "colab": {
          "base_uri": "https://localhost:8080/"
        },
        "outputId": "63adcc7d-56dd-473a-9c40-24ef987938b6"
      },
      "source": [
        "model = model_init_fn()\n",
        "model.compile(optimizer=tf.keras.optimizers.SGD(learning_rate=learning_rate),\n",
        "              loss='sparse_categorical_crossentropy',\n",
        "              metrics=[tf.keras.metrics.sparse_categorical_accuracy])\n",
        "model.fit(X_train, y_train, batch_size=64, epochs=1, validation_data=(X_val, y_val))\n",
        "model.evaluate(X_test, y_test)"
      ],
      "execution_count": 19,
      "outputs": [
        {
          "output_type": "stream",
          "text": [
            "766/766 [==============================] - 3s 4ms/step - loss: 1.8263 - sparse_categorical_accuracy: 0.3872 - val_loss: 1.7227 - val_sparse_categorical_accuracy: 0.4190\n",
            "313/313 [==============================] - 1s 2ms/step - loss: 1.7049 - sparse_categorical_accuracy: 0.4143\n"
          ],
          "name": "stdout"
        },
        {
          "output_type": "execute_result",
          "data": {
            "text/plain": [
              "[1.7048569917678833, 0.41429999470710754]"
            ]
          },
          "metadata": {
            "tags": []
          },
          "execution_count": 19
        }
      ]
    },
    {
      "cell_type": "markdown",
      "metadata": {
        "id": "V1jWv9CpdMc_"
      },
      "source": [
        "### Keras Sequential API: Three-Layer ConvNet\n",
        "Here you should use `tf.keras.Sequential` to reimplement the same three-layer ConvNet architecture used in Part II and Part III. As a reminder, your model should have the following architecture:\n",
        "\n",
        "1. Convolutional layer with 32 5x5 kernels, using zero padding of 2\n",
        "2. ReLU nonlinearity\n",
        "3. Convolutional layer with 16 3x3 kernels, using zero padding of 1\n",
        "4. ReLU nonlinearity\n",
        "5. Fully-connected layer giving class scores\n",
        "6. Softmax nonlinearity\n",
        "\n",
        "You should initialize the weights of the model using a `tf.initializers.VarianceScaling` as above.\n",
        "\n",
        "You should train the model using Nesterov momentum 0.9.\n",
        "\n",
        "You don't need to perform any hyperparameter search, but you should achieve accuracy above 45% after training for one epoch."
      ]
    },
    {
      "cell_type": "code",
      "metadata": {
        "id": "D-obdeVZdMc_",
        "colab": {
          "base_uri": "https://localhost:8080/"
        },
        "outputId": "e2b6981f-9c11-417f-a41f-38c9915da147"
      },
      "source": [
        "def model_init_fn():\n",
        "    model = None\n",
        "    ############################################################################\n",
        "    # TODO: Construct a three-layer ConvNet using tf.keras.Sequential.         #\n",
        "    ############################################################################\n",
        "    # *****START OF YOUR CODE (DO NOT DELETE/MODIFY THIS LINE)*****\n",
        "\n",
        "    channel_1, channel_2, num_classes = 32, 16, 10\n",
        "\n",
        "    initializer = tf.initializers.VarianceScaling(scale=2.0)\n",
        "\n",
        "    layers = [\n",
        "        tf.keras.layers.InputLayer(input_shape=(32,32,3)),\n",
        "        tf.keras.layers.ZeroPadding2D(2),\n",
        "        tf.keras.layers.Conv2D(channel_1, [5,5], [1,1], padding='VALID',\n",
        "                               kernel_initializer=initializer,\n",
        "                               activation=tf.nn.relu),\n",
        "        tf.keras.layers.ZeroPadding2D(1),\n",
        "        tf.keras.layers.Conv2D(channel_2, [3,3], [1,1], padding='VALID',\n",
        "                               kernel_initializer=initializer,\n",
        "                               activation=tf.nn.relu),\n",
        "        tf.keras.layers.Flatten(),\n",
        "        tf.keras.layers.Dense(num_classes, kernel_initializer=initializer),\n",
        "        tf.keras.layers.Softmax()  \n",
        "    ]\n",
        "\n",
        "    model = tf.keras.Sequential(layers)\n",
        "\n",
        "    # *****END OF YOUR CODE (DO NOT DELETE/MODIFY THIS LINE)*****\n",
        "    ############################################################################\n",
        "    #                            END OF YOUR CODE                              #\n",
        "    ############################################################################\n",
        "    return model\n",
        "\n",
        "learning_rate = 5e-4\n",
        "def optimizer_init_fn():\n",
        "    optimizer = None\n",
        "    ############################################################################\n",
        "    # TODO: Complete the implementation of model_fn.                           #\n",
        "    ############################################################################\n",
        "    # *****START OF YOUR CODE (DO NOT DELETE/MODIFY THIS LINE)*****\n",
        "\n",
        "    optimizer = tf.keras.optimizers.SGD(learning_rate, momentum=0.9, nesterov=True)\n",
        "\n",
        "    # *****END OF YOUR CODE (DO NOT DELETE/MODIFY THIS LINE)*****\n",
        "    ############################################################################\n",
        "    #                           END OF YOUR CODE                               #\n",
        "    ############################################################################\n",
        "    return optimizer\n",
        "\n",
        "train_part34(model_init_fn, optimizer_init_fn)"
      ],
      "execution_count": 20,
      "outputs": [
        {
          "output_type": "stream",
          "text": [
            "Iteration 0, Epoch 1, Loss: 3.1146047115325928, Accuracy: 15.625, Val Loss: 3.054764986038208, Val Accuracy: 10.5\n",
            "Iteration 100, Epoch 1, Loss: 2.052259922027588, Accuracy: 29.03774642944336, Val Loss: 1.7801094055175781, Val Accuracy: 36.79999923706055\n",
            "Iteration 200, Epoch 1, Loss: 1.8973894119262695, Accuracy: 33.916358947753906, Val Loss: 1.6504817008972168, Val Accuracy: 44.0\n",
            "Iteration 300, Epoch 1, Loss: 1.8193416595458984, Accuracy: 36.40988540649414, Val Loss: 1.5969198942184448, Val Accuracy: 45.79999923706055\n",
            "Iteration 400, Epoch 1, Loss: 1.7518608570098877, Accuracy: 38.614402770996094, Val Loss: 1.5302413702011108, Val Accuracy: 48.10000228881836\n",
            "Iteration 500, Epoch 1, Loss: 1.7036681175231934, Accuracy: 40.13223648071289, Val Loss: 1.4787508249282837, Val Accuracy: 48.89999771118164\n",
            "Iteration 600, Epoch 1, Loss: 1.6708426475524902, Accuracy: 41.22296142578125, Val Loss: 1.4460939168930054, Val Accuracy: 51.30000305175781\n",
            "Iteration 700, Epoch 1, Loss: 1.642993450164795, Accuracy: 42.22316360473633, Val Loss: 1.4179754257202148, Val Accuracy: 52.89999771118164\n"
          ],
          "name": "stdout"
        }
      ]
    },
    {
      "cell_type": "markdown",
      "metadata": {
        "id": "hg4w2myxdMc_"
      },
      "source": [
        "We will also train this model with the built-in training loop APIs provided by TensorFlow."
      ]
    },
    {
      "cell_type": "code",
      "metadata": {
        "id": "ZhxqQe5UdMc_",
        "colab": {
          "base_uri": "https://localhost:8080/"
        },
        "outputId": "2da3dc0f-1e7d-421d-b3c0-6e8aaab32410"
      },
      "source": [
        "model = model_init_fn()\n",
        "model.compile(optimizer='sgd',\n",
        "              loss='sparse_categorical_crossentropy',\n",
        "              metrics=[tf.keras.metrics.sparse_categorical_accuracy])\n",
        "model.fit(X_train, y_train, batch_size=64, epochs=1, validation_data=(X_val, y_val))\n",
        "model.evaluate(X_test, y_test)"
      ],
      "execution_count": 21,
      "outputs": [
        {
          "output_type": "stream",
          "text": [
            "766/766 [==============================] - 3s 5ms/step - loss: 1.5803 - sparse_categorical_accuracy: 0.4394 - val_loss: 1.4303 - val_sparse_categorical_accuracy: 0.5120\n",
            "313/313 [==============================] - 1s 2ms/step - loss: 1.4156 - sparse_categorical_accuracy: 0.4964\n"
          ],
          "name": "stdout"
        },
        {
          "output_type": "execute_result",
          "data": {
            "text/plain": [
              "[1.4155687093734741, 0.49639999866485596]"
            ]
          },
          "metadata": {
            "tags": []
          },
          "execution_count": 21
        }
      ]
    },
    {
      "cell_type": "markdown",
      "metadata": {
        "id": "zfiNdvK0dMc_"
      },
      "source": [
        "##  Part IV: Functional API\n",
        "### Demonstration with a Two-Layer Network \n",
        "\n",
        "In the previous section, we saw how we can use `tf.keras.Sequential` to stack layers to quickly build simple models. But this comes at the cost of losing flexibility.\n",
        "\n",
        "Often we will have to write complex models that have non-sequential data flows: a layer can have **multiple inputs and/or outputs**, such as stacking the output of 2 previous layers together to feed as input to a third! (Some examples are residual connections and dense blocks.)\n",
        "\n",
        "In such cases, we can use Keras functional API to write models with complex topologies such as:\n",
        "\n",
        " 1. Multi-input models\n",
        " 2. Multi-output models\n",
        " 3. Models with shared layers (the same layer called several times)\n",
        " 4. Models with non-sequential data flows (e.g. residual connections)\n",
        "\n",
        "Writing a model with Functional API requires us to create a `tf.keras.Model` instance and explicitly write input tensors and output tensors for this model. "
      ]
    },
    {
      "cell_type": "code",
      "metadata": {
        "tags": [
          "pdf-ignore"
        ],
        "id": "SXiPrTWAdMc_",
        "colab": {
          "base_uri": "https://localhost:8080/"
        },
        "outputId": "7214336b-de3b-4a08-a2cf-7f798bcc6535"
      },
      "source": [
        "def two_layer_fc_functional(input_shape, hidden_size, num_classes):  \n",
        "    initializer = tf.initializers.VarianceScaling(scale=2.0)\n",
        "    inputs = tf.keras.Input(shape=input_shape)\n",
        "    flattened_inputs = tf.keras.layers.Flatten()(inputs)\n",
        "    fc1_output = tf.keras.layers.Dense(hidden_size, activation='relu',\n",
        "                                 kernel_initializer=initializer)(flattened_inputs)\n",
        "    scores = tf.keras.layers.Dense(num_classes, activation='softmax',\n",
        "                             kernel_initializer=initializer)(fc1_output)\n",
        "\n",
        "    # Instantiate the model given inputs and outputs.\n",
        "    model = tf.keras.Model(inputs=inputs, outputs=scores)\n",
        "    return model\n",
        "\n",
        "def test_two_layer_fc_functional():\n",
        "    \"\"\" A small unit test to exercise the TwoLayerFC model above. \"\"\"\n",
        "    input_size, hidden_size, num_classes = 50, 42, 10\n",
        "    input_shape = (50,)\n",
        "    \n",
        "    x = tf.zeros((64, input_size))\n",
        "    model = two_layer_fc_functional(input_shape, hidden_size, num_classes)\n",
        "    \n",
        "    with tf.device(device):\n",
        "        scores = model(x)\n",
        "        print(scores.shape)\n",
        "        \n",
        "test_two_layer_fc_functional()"
      ],
      "execution_count": 22,
      "outputs": [
        {
          "output_type": "stream",
          "text": [
            "(64, 10)\n"
          ],
          "name": "stdout"
        }
      ]
    },
    {
      "cell_type": "markdown",
      "metadata": {
        "id": "k6UGN0IedMc_"
      },
      "source": [
        "### Keras Functional API: Train a Two-Layer Network\n",
        "You can now train this two-layer network constructed using the functional API.\n",
        "\n",
        "You don't need to perform any hyperparameter tuning here, but you should see validation accuracies above 40% after training for one epoch."
      ]
    },
    {
      "cell_type": "code",
      "metadata": {
        "id": "oZgG9sLCdMc_",
        "colab": {
          "base_uri": "https://localhost:8080/"
        },
        "outputId": "2049a446-fb21-483d-bdbd-f4a5a851b4bf"
      },
      "source": [
        "input_shape = (32, 32, 3)\n",
        "hidden_size, num_classes = 4000, 10\n",
        "learning_rate = 1e-2\n",
        "\n",
        "def model_init_fn():\n",
        "    return two_layer_fc_functional(input_shape, hidden_size, num_classes)\n",
        "\n",
        "def optimizer_init_fn():\n",
        "    return tf.keras.optimizers.SGD(learning_rate=learning_rate)\n",
        "\n",
        "train_part34(model_init_fn, optimizer_init_fn)"
      ],
      "execution_count": 23,
      "outputs": [
        {
          "output_type": "stream",
          "text": [
            "Iteration 0, Epoch 1, Loss: 2.775527000427246, Accuracy: 10.9375, Val Loss: 2.677039623260498, Val Accuracy: 14.90000057220459\n",
            "Iteration 100, Epoch 1, Loss: 2.2350316047668457, Accuracy: 28.109529495239258, Val Loss: 1.8630375862121582, Val Accuracy: 36.39999771118164\n",
            "Iteration 200, Epoch 1, Loss: 2.0653672218322754, Accuracy: 32.353858947753906, Val Loss: 1.842374563217163, Val Accuracy: 39.20000076293945\n",
            "Iteration 300, Epoch 1, Loss: 1.9927303791046143, Accuracy: 34.18293380737305, Val Loss: 1.8857568502426147, Val Accuracy: 36.0\n",
            "Iteration 400, Epoch 1, Loss: 1.9273381233215332, Accuracy: 35.995948791503906, Val Loss: 1.7220516204833984, Val Accuracy: 41.5\n",
            "Iteration 500, Epoch 1, Loss: 1.881940484046936, Accuracy: 37.12574768066406, Val Loss: 1.6671738624572754, Val Accuracy: 43.29999923706055\n",
            "Iteration 600, Epoch 1, Loss: 1.8522484302520752, Accuracy: 37.934173583984375, Val Loss: 1.6872868537902832, Val Accuracy: 41.60000228881836\n",
            "Iteration 700, Epoch 1, Loss: 1.8258846998214722, Accuracy: 38.652374267578125, Val Loss: 1.6255786418914795, Val Accuracy: 44.80000305175781\n"
          ],
          "name": "stdout"
        }
      ]
    },
    {
      "cell_type": "markdown",
      "metadata": {
        "id": "4uZdTPMNdMc_"
      },
      "source": [
        "# Part V: CIFAR-10 open-ended challenge\n",
        "\n",
        "In this section you can experiment with whatever ConvNet architecture you'd like on CIFAR-10.\n",
        "\n",
        "You should experiment with architectures, hyperparameters, loss functions, regularization, or anything else you can think of to train a model that achieves **at least 70%** accuracy on the **validation** set within 10 epochs. You can use the built-in train function, the `train_part34` function from above, or implement your own training loop.\n",
        "\n",
        "Describe what you did at the end of the notebook.\n",
        "\n",
        "### Some things you can try:\n",
        "- **Filter size**: Above we used 5x5 and 3x3; is this optimal?\n",
        "- **Number of filters**: Above we used 16 and 32 filters. Would more or fewer do better?\n",
        "- **Pooling**: We didn't use any pooling above. Would this improve the model?\n",
        "- **Normalization**: Would your model be improved with batch normalization, layer normalization, group normalization, or some other normalization strategy?\n",
        "- **Network architecture**: The ConvNet above has only three layers of trainable parameters. Would a deeper model do better?\n",
        "- **Global average pooling**: Instead of flattening after the final convolutional layer, would global average pooling do better? This strategy is used for example in Google's Inception network and in Residual Networks.\n",
        "- **Regularization**: Would some kind of regularization improve performance? Maybe weight decay or dropout?\n",
        "\n",
        "### NOTE: Batch Normalization / Dropout\n",
        "If you are using Batch Normalization and Dropout, remember to pass `is_training=True` if you use the `train_part34()` function. BatchNorm and Dropout layers have different behaviors at training and inference time. `training` is a specific keyword argument reserved for this purpose in any `tf.keras.Model`'s `call()` function. Read more about this here : https://www.tensorflow.org/versions/r2.0/api_docs/python/tf/keras/layers/BatchNormalization#methods\n",
        "https://www.tensorflow.org/versions/r2.0/api_docs/python/tf/keras/layers/Dropout#methods\n",
        "\n",
        "### Tips for training\n",
        "For each network architecture that you try, you should tune the learning rate and other hyperparameters. When doing this there are a couple important things to keep in mind: \n",
        "\n",
        "- If the parameters are working well, you should see improvement within a few hundred iterations\n",
        "- Remember the coarse-to-fine approach for hyperparameter tuning: start by testing a large range of hyperparameters for just a few training iterations to find the combinations of parameters that are working at all.\n",
        "- Once you have found some sets of parameters that seem to work, search more finely around these parameters. You may need to train for more epochs.\n",
        "- You should use the validation set for hyperparameter search, and save your test set for evaluating your architecture on the best parameters as selected by the validation set.\n",
        "\n",
        "### Going above and beyond\n",
        "If you are feeling adventurous there are many other features you can implement to try and improve your performance. You are **not required** to implement any of these, but don't miss the fun if you have time!\n",
        "\n",
        "- Alternative optimizers: you can try Adam, Adagrad, RMSprop, etc.\n",
        "- Alternative activation functions such as leaky ReLU, parametric ReLU, ELU, or MaxOut.\n",
        "- Model ensembles\n",
        "- Data augmentation\n",
        "- New Architectures\n",
        "  - [ResNets](https://arxiv.org/abs/1512.03385) where the input from the previous layer is added to the output.\n",
        "  - [DenseNets](https://arxiv.org/abs/1608.06993) where inputs into previous layers are concatenated together.\n",
        "  - [This blog has an in-depth overview](https://chatbotslife.com/resnets-highwaynets-and-densenets-oh-my-9bb15918ee32)\n",
        "  \n",
        "### Have fun and happy training! "
      ]
    },
    {
      "cell_type": "code",
      "metadata": {
        "id": "Wg8KV1nddMc_",
        "colab": {
          "base_uri": "https://localhost:8080/"
        },
        "outputId": "5555310b-2569-41a1-c0df-80b84e79918a"
      },
      "source": [
        "class CustomConvNet(tf.keras.Model):\n",
        "    def __init__(self):\n",
        "        super(CustomConvNet, self).__init__()\n",
        "        ############################################################################\n",
        "        # TODO: Construct a model that performs well on CIFAR-10                   #\n",
        "        ############################################################################\n",
        "        # *****START OF YOUR CODE (DO NOT DELETE/MODIFY THIS LINE)*****\n",
        "\n",
        "        input_shape = (32, 32, 3)\n",
        "\n",
        "        num_classes = 10\n",
        "\n",
        "        initializer = tf.initializers.VarianceScaling(scale=1.0)\n",
        "\n",
        "        #inputs = tf.keras.layers.InputLayer(input_shape=input_shape)\n",
        "        self.conv1 = tf.keras.layers.Conv2D(32, (3, 3), padding='same', \\\n",
        "                                            kernel_initializer=initializer, \\\n",
        "                                            input_shape=input_shape)\n",
        "        self.conv2 = tf.keras.layers.Conv2D(32, (3, 3), padding='same', \\\n",
        "                                kernel_initializer=initializer)\n",
        "        self.pooling1 = tf.keras.layers.MaxPool2D(2)\n",
        "        self.dropout1 = tf.keras.layers.Dropout(rate=0.2)\n",
        "        self.conv3 = tf.keras.layers.Conv2D(64, (3, 3), padding='same', \\\n",
        "                                kernel_initializer=initializer)\n",
        "        self.conv4 = tf.keras.layers.Conv2D(64, (3, 3), padding='same', \\\n",
        "                        kernel_initializer=initializer)\n",
        "        self.pooling2 = tf.keras.layers.MaxPool2D(2)\n",
        "        self.dropout2 = tf.keras.layers.Dropout(rate=0.2)\n",
        "        self.conv5 = tf.keras.layers.Conv2D(128, (3, 3), padding='same', \\\n",
        "                                kernel_initializer=initializer)\n",
        "        self.conv6 = tf.keras.layers.Conv2D(128, (3, 3), padding='same', \\\n",
        "                        kernel_initializer=initializer)\n",
        "        self.pooling3 = tf.keras.layers.MaxPool2D(2)\n",
        "        self.dropout3 = tf.keras.layers.Dropout(rate=0.3)\n",
        "        self.flatten = tf.keras.layers.Flatten()\n",
        "        self.fc1 = tf.keras.layers.Dense(1024)\n",
        "        self.relu = tf.keras.layers.ReLU()\n",
        "        self.fc2 = tf.keras.layers.Dense(10)\n",
        "        self.softmax = tf.keras.layers.Softmax()\n",
        "\n",
        "        # *****END OF YOUR CODE (DO NOT DELETE/MODIFY THIS LINE)*****\n",
        "        ############################################################################\n",
        "        #                            END OF YOUR CODE                              #\n",
        "        ############################################################################\n",
        "    \n",
        "    def call(self, input_tensor, training=False):\n",
        "        ############################################################################\n",
        "        # TODO: Construct a model that performs well on CIFAR-10                   #\n",
        "        ############################################################################\n",
        "        # *****START OF YOUR CODE (DO NOT DELETE/MODIFY THIS LINE)*****\n",
        "\n",
        "        x = self.conv1(input_tensor)\n",
        "        x = self.conv2(x)\n",
        "        x = self.pooling1(x)\n",
        "        x = self.dropout1(x)\n",
        "        x = self.conv3(x)\n",
        "        x = self.conv4(x)\n",
        "        x = self.pooling2(x)\n",
        "        x = self.dropout2(x)\n",
        "        x = self.conv5(x)\n",
        "        x = self.conv6(x)\n",
        "        x = self.pooling3(x)\n",
        "        x = self.dropout3(x)\n",
        "        x = self.flatten(x)\n",
        "        x = self.fc1(x)\n",
        "        x = self.relu(x)\n",
        "        x = self.fc2(x)\n",
        "        x = self.softmax(x)\n",
        "\n",
        "        # *****END OF YOUR CODE (DO NOT DELETE/MODIFY THIS LINE)*****\n",
        "        ############################################################################\n",
        "        #                            END OF YOUR CODE                              #\n",
        "        ############################################################################\n",
        "        \n",
        "        return x\n",
        "\n",
        "device = '/device:GPU:0'   # Change this to a CPU/GPU as you wish!\n",
        "# device = '/cpu:0'        # Change this to a CPU/GPU as you wish!\n",
        "print_every = 700\n",
        "num_epochs = 10\n",
        "\n",
        "model = CustomConvNet()\n",
        "\n",
        "def model_init_fn():\n",
        "    return CustomConvNet()\n",
        "\n",
        "def optimizer_init_fn():\n",
        "    learning_rate = 5e-4\n",
        "    return tf.keras.optimizers.Adam(learning_rate) \n",
        "\n",
        "train_part34(model_init_fn, optimizer_init_fn, num_epochs=num_epochs, is_training=True)"
      ],
      "execution_count": 35,
      "outputs": [
        {
          "output_type": "stream",
          "text": [
            "Iteration 0, Epoch 1, Loss: 3.59458589553833, Accuracy: 9.375, Val Loss: 3.554042339324951, Val Accuracy: 12.800000190734863\n",
            "Iteration 700, Epoch 1, Loss: 1.41220223903656, Accuracy: 50.56169509887695, Val Loss: 1.1261893510818481, Val Accuracy: 62.30000305175781\n",
            "Iteration 1400, Epoch 2, Loss: 0.978876531124115, Accuracy: 65.95472717285156, Val Loss: 0.8097310066223145, Val Accuracy: 71.0\n",
            "Iteration 2100, Epoch 3, Loss: 0.8156914710998535, Accuracy: 71.69376373291016, Val Loss: 0.8417626023292542, Val Accuracy: 71.10000610351562\n",
            "Iteration 2800, Epoch 4, Loss: 0.7015759348869324, Accuracy: 75.46595001220703, Val Loss: 0.8027039766311646, Val Accuracy: 74.0\n",
            "Iteration 3500, Epoch 5, Loss: 0.619880735874176, Accuracy: 78.48255157470703, Val Loss: 0.8218818306922913, Val Accuracy: 74.80000305175781\n",
            "Iteration 4200, Epoch 6, Loss: 0.5479769110679626, Accuracy: 80.6182632446289, Val Loss: 0.7564489841461182, Val Accuracy: 77.0\n",
            "Iteration 4900, Epoch 7, Loss: 0.4848863482475281, Accuracy: 83.2530746459961, Val Loss: 0.7792021632194519, Val Accuracy: 75.4000015258789\n",
            "Iteration 5600, Epoch 8, Loss: 0.430449515581131, Accuracy: 84.94377899169922, Val Loss: 0.827182948589325, Val Accuracy: 77.9000015258789\n",
            "Iteration 6300, Epoch 9, Loss: 0.38266366720199585, Accuracy: 87.05744171142578, Val Loss: 0.8109422326087952, Val Accuracy: 76.4000015258789\n",
            "Iteration 7000, Epoch 10, Loss: 0.3504474461078644, Accuracy: 87.86507415771484, Val Loss: 0.9642298817634583, Val Accuracy: 76.20000457763672\n"
          ],
          "name": "stdout"
        }
      ]
    },
    {
      "cell_type": "markdown",
      "metadata": {
        "tags": [
          "pdf-inline"
        ],
        "id": "YM5lGSqKdMc_"
      },
      "source": [
        "### Describe what you did \n",
        "\n",
        "In the cell below you should write an explanation of what you did, any additional features that you implemented, and/or any graphs that you made in the process of training and evaluating your network."
      ]
    },
    {
      "cell_type": "markdown",
      "metadata": {
        "tags": [
          "pdf-inline"
        ],
        "id": "58uxiViDdMc_"
      },
      "source": [
        "#### Stage 1\n",
        "\n",
        "First, I tried to use the `ThreeLayerConvNet` twe created before to do this job. However, after I tried a variety of different learning rate values, both the training accuracy and the validation accuracy were still very bad. So I thought the reason caused this case is that the `ThreeLayerConvNet` network is too simple so that it can not learn the features we want well.\n",
        "\n",
        "#### Stage 2\n",
        "\n",
        "So after that, I turned to focus on building a more complicated network.\n",
        "\n",
        "The main idea is to add more convolutional layers and also add some pooling layers into the original network. And we also tuned the number of filters and the learning rate to get a good result.\n",
        "\n",
        "The new network structure is like the following:\n",
        "\n",
        "$$\n",
        "Conv2D(32, (3,3)) * 2 \\\\\n",
        "\\downarrow  \\\\\n",
        "MaxPooling(2) \\\\\n",
        "\\downarrow \\\\\n",
        "Conv2D(64, (3,3)) * 2 \\\\\n",
        "\\downarrow \\\\\n",
        "MaxPooling(2) \\\\ \n",
        "\\downarrow \\\\\n",
        "Conv2D(64, (3,3)) * 2 \\\\\n",
        "\\downarrow \\\\\n",
        "MaxPooling(2) \\\\\n",
        "\\downarrow \\\\\n",
        "Flatten() \\\\\n",
        "\\downarrow \\\\\n",
        "Dense(1024) \\\\\n",
        "\\downarrow  \\\\\n",
        "ReLU() \\\\\n",
        "\\downarrow \\\\ \n",
        "Dense(10)  \\\\\n",
        "\\downarrow \\\\\n",
        "Softmax()\n",
        "$$\n",
        "\n",
        "However, this time the training accuracy is continously rising during the training process, while the validation accuracy remains unchanged after some epoches. And the highest validation accuracy is around `0.6`. Better than the one we get in the stage 1, but it's still far away from the required `70%`.\n",
        "\n",
        "#### Stage 3\n",
        "\n",
        "According to what Prof. Kumar discussed in class, if the validation accuracy remains unchanged or decreasing as the training accuracy and loss gets better, we might have fallen into the overfitting case.\n",
        "\n",
        "So the next direction we tried to improve our model is to use dropout to avoid overfitting. Thus, we add three dropout layer after each maxpooling layer.\n",
        "\n",
        "Then the new network goes like the following:\n",
        "\n",
        "$$\n",
        "Conv2D(32, (3,3)) * 2 \\\\\n",
        "\\downarrow  \\\\\n",
        "MaxPooling(2) \\\\\n",
        "\\downarrow \\\\\n",
        "Dropout(0.2) \\\\\n",
        "\\downarrow \\\\\n",
        "Conv2D(64, (3,3)) * 2 \\\\\n",
        "\\downarrow \\\\\n",
        "MaxPooling(2) \\\\ \n",
        "\\downarrow \\\\\n",
        "Dropout(0.2) \\\\\n",
        "\\downarrow \\\\\n",
        "Conv2D(64, (3,3)) * 2 \\\\\n",
        "\\downarrow \\\\\n",
        "MaxPooling(2) \\\\\n",
        "\\downarrow \\\\\n",
        "Dropout(0.3) \\\\\n",
        "\\downarrow \\\\\n",
        "Flatten() \\\\\n",
        "\\downarrow \\\\\n",
        "Dense(1024) \\\\\n",
        "\\downarrow  \\\\\n",
        "ReLU() \\\\\n",
        "\\downarrow \\\\ \n",
        "Dense(10)  \\\\\n",
        "\\downarrow \\\\\n",
        "Softmax()\n",
        "$$\n",
        "\n",
        "After we tuned the learning rate, we can get a validation accuracy around `0.78`, which already meets the requirement."
      ]
    },
    {
      "cell_type": "code",
      "metadata": {
        "id": "7xjtstCJfx2t"
      },
      "source": [
        ""
      ],
      "execution_count": null,
      "outputs": []
    }
  ]
}